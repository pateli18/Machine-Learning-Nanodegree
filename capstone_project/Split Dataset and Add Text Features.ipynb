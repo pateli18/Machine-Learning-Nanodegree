{
 "cells": [
  {
   "cell_type": "markdown",
   "metadata": {},
   "source": [
    "# Libraries and Helper Functions"
   ]
  },
  {
   "cell_type": "code",
   "execution_count": 100,
   "metadata": {
    "collapsed": true
   },
   "outputs": [],
   "source": [
    "import pandas as pd\n",
    "import numpy as np\n",
    "import matplotlib.pyplot as plt\n",
    "%matplotlib inline\n",
    "from sklearn.model_selection import train_test_split\n",
    "from sklearn.feature_extraction.text import TfidfVectorizer\n",
    "import nltk\n",
    "from nltk.stem.snowball import SnowballStemmer\n",
    "import re\n",
    "from sklearn.cluster import KMeans\n",
    "from __future__ import print_function"
   ]
  },
  {
   "cell_type": "code",
   "execution_count": 101,
   "metadata": {
    "collapsed": true
   },
   "outputs": [],
   "source": [
    "def plot_categorical(df, column_name, width):\n",
    "    no_readmission_data = [(key, value) for key, value in df[df['READMISSION'] == False][column_name].value_counts().iteritems()]\n",
    "    readmission_data = [(key, value) for key, value in df[df['READMISSION'] == True][column_name].value_counts().iteritems()]\n",
    "    \n",
    "    ind = np.arange(len(readmission_data))\n",
    "    labels = np.asarray([value[0] for value in no_readmission_data])\n",
    "    \n",
    "    no_readmission = np.asarray([value[1] for value in no_readmission_data])\n",
    "    readmission = np.asarray([value[1] for value in readmission_data])\n",
    "    \n",
    "    fig, ax = plt.subplots()\n",
    "    \n",
    "    no_readmission_axis = ax.bar(ind, no_readmission, width)\n",
    "    readmission_axis = ax.bar(ind + width, readmission, width)\n",
    "    \n",
    "    ax.set_ylabel('Count')\n",
    "    ax.set_title(column_name + ' by Class')\n",
    "    ax.set_xticks(ind + width / 2)\n",
    "    ax.set_xticklabels(labels)\n",
    "\n",
    "    ax.legend((no_readmission_axis[0], readmission_axis[0]), ('No Readmission', 'Readmission'))\n",
    "    \n",
    "    plt.show()"
   ]
  },
  {
   "cell_type": "markdown",
   "metadata": {},
   "source": [
    "# Split Dataset"
   ]
  },
  {
   "cell_type": "code",
   "execution_count": 102,
   "metadata": {
    "collapsed": false
   },
   "outputs": [],
   "source": [
    "# load and split data\n",
    "main_df = pd.read_csv('full_dataset.csv')\n",
    "train_df, test_df = train_test_split(main_df, test_size = .2, random_state = 42)"
   ]
  },
  {
   "cell_type": "code",
   "execution_count": 103,
   "metadata": {
    "collapsed": false,
    "scrolled": false
   },
   "outputs": [
    {
     "name": "stdout",
     "output_type": "stream",
     "text": [
      "Train Size: (33692, 90)\n",
      "Test Size: (8423, 90)\n"
     ]
    },
    {
     "data": {
      "image/png": "[encoded data removed]",
      "text/plain": [
       "<matplotlib.figure.Figure at 0x12212d210>"
      ]
     },
     "metadata": {},
     "output_type": "display_data"
    }
   ],
   "source": [
    "# print total size\n",
    "print(\"Train Size: {0}\".format(train_df.shape))\n",
    "print(\"Test Size: {0}\".format(test_df.shape))\n",
    "\n",
    "# get class counts by dataset\n",
    "train_no_readmission = train_df[train_df['READMISSION'] == False].shape[0]\n",
    "train_readmission = train_df[train_df['READMISSION'] == True].shape[0]\n",
    "test_no_readmission = test_df[test_df['READMISSION'] == False].shape[0]\n",
    "test_readmission = test_df[test_df['READMISSION'] == True].shape[0]\n",
    "\n",
    "# plot dataset splits\n",
    "labels = ['No Readmission', 'Readmission']\n",
    "train_graph_data = [train_no_readmission, train_readmission]\n",
    "test_graph_data = [test_no_readmission, test_readmission]\n",
    "\n",
    "fig = plt.figure(figsize=(10,5))\n",
    "train_ax = fig.add_subplot(121)\n",
    "train_ax.pie(train_graph_data, labels=['No Readmission', 'Readmission'], autopct='%1.1f%%', startangle = 90)\n",
    "train_ax.set_title('Training Set')\n",
    "\n",
    "test_ax = fig.add_subplot(122)\n",
    "test_ax.pie(test_graph_data, labels=['No Readmission', 'Readmission'], autopct='%1.1f%%', startangle = 90)\n",
    "test_ax.set_title('Testing Set')\n",
    "\n",
    "plt.show()"
   ]
  },
  {
   "cell_type": "code",
   "execution_count": 104,
   "metadata": {
    "collapsed": true
   },
   "outputs": [],
   "source": [
    "# save train and test datasets\n",
    "train_df.to_csv('train_dataset.csv', index = False)\n",
    "test_df.to_csv('test_dataset.csv', index = False)"
   ]
  },
  {
   "cell_type": "markdown",
   "metadata": {},
   "source": [
    "# Add Text Features"
   ]
  },
  {
   "cell_type": "markdown",
   "metadata": {},
   "source": [
    "### Create TF-IDF"
   ]
  },
  {
   "cell_type": "code",
   "execution_count": 105,
   "metadata": {
    "collapsed": false
   },
   "outputs": [],
   "source": [
    "stopwords = nltk.corpus.stopwords.words('english')\n",
    "stemmer = SnowballStemmer(\"english\")\n",
    "def tokenize_and_stem(text):\n",
    "    # first tokenize by sentence, then by word to ensure that punctuation is caught as it's own token\n",
    "    tokens = [word for sent in nltk.sent_tokenize(text) for word in nltk.word_tokenize(sent)]\n",
    "    filtered_tokens = []\n",
    "    # filter out any tokens not containing letters (e.g., numeric tokens, raw punctuation)\n",
    "    for token in tokens:\n",
    "        if re.search('[a-zA-Z]', token):\n",
    "            filtered_tokens.append(token)\n",
    "    stems = [stemmer.stem(t) for t in filtered_tokens]\n",
    "    return stems\n",
    "\n",
    "def tokenize_only(text):\n",
    "    # first tokenize by sentence, then by word to ensure that punctuation is caught as it's own token\n",
    "    tokens = [word.lower() for sent in nltk.sent_tokenize(text) for word in nltk.word_tokenize(sent)]\n",
    "    filtered_tokens = []\n",
    "    # filter out any tokens not containing letters (e.g., numeric tokens, raw punctuation)\n",
    "    for token in tokens:\n",
    "        if re.search('[a-zA-Z]', token):\n",
    "            filtered_tokens.append(token)\n",
    "    return filtered_tokens"
   ]
  },
  {
   "cell_type": "code",
   "execution_count": 106,
   "metadata": {
    "collapsed": false
   },
   "outputs": [],
   "source": [
    "# create tf-idf matrix\n",
    "tfidf_vectorizer = TfidfVectorizer(max_df=.15, max_features=100000,\n",
    "                             min_df=5, stop_words='english',\n",
    "                             use_idf=True, tokenizer=tokenize_and_stem, ngram_range=(1,3))\n",
    "\n",
    "tfidf_matrix_train = tfidf_vectorizer.fit_transform(train_df['DESCRIPTION'])\n",
    "tfidf_matrix_test = tfidf_vectorizer.transform(test_df['DESCRIPTION'])\n",
    "terms = tfidf_vectorizer.get_feature_names()"
   ]
  },
  {
   "cell_type": "markdown",
   "metadata": {},
   "source": [
    "### K-Means Cluster"
   ]
  },
  {
   "cell_type": "markdown",
   "metadata": {},
   "source": [
    "#### Helper Functions"
   ]
  },
  {
   "cell_type": "code",
   "execution_count": 107,
   "metadata": {
    "collapsed": true
   },
   "outputs": [],
   "source": [
    "def get_vocab_frame(df, column_name):\n",
    "    column = df[column_name]\n",
    "    totalvocab_stemmed = []\n",
    "    totalvocab_tokenized = []\n",
    "    for j,i in column.iteritems():\n",
    "        allwords_stemmed = tokenize_and_stem(i) #for each item in 'description', tokenize/stem\n",
    "        totalvocab_stemmed.extend(allwords_stemmed) #extend the 'totalvocab_stemmed' list\n",
    "\n",
    "        allwords_tokenized = tokenize_only(i)\n",
    "        totalvocab_tokenized.extend(allwords_tokenized)\n",
    "        #if len(totalvocab_stemmed) != len(totalvocab_tokenized):\n",
    "        #    print(j)\n",
    "        #    print(i)\n",
    "    vocab_frame = pd.DataFrame({'words': totalvocab_tokenized}, index = totalvocab_stemmed)\n",
    "    print('there are ' + str(vocab_frame.shape[0]) + ' items in vocab_frame')\n",
    "    return vocab_frame"
   ]
  },
  {
   "cell_type": "code",
   "execution_count": 108,
   "metadata": {
    "collapsed": true
   },
   "outputs": [],
   "source": [
    "def cluster_text(df_train, num_clusters, vocab_frame, tfidf_matrix, terms):\n",
    "    \n",
    "    #kmeans cluster\n",
    "    km = KMeans(n_clusters=num_clusters, random_state = 42)\n",
    "    km.fit(tfidf_matrix)\n",
    "    clusters = km.labels_.tolist()\n",
    "    df_train['cluster'] = clusters\n",
    "    print('Cluster Value Counts:')\n",
    "    print(df_train['cluster'].value_counts())\n",
    "    \n",
    "    #view clusters\n",
    "    print(\"Top terms per cluster:\")\n",
    "    print()\n",
    "    #sort cluster centers by proximity to centroid\n",
    "    order_centroids = km.cluster_centers_.argsort()[:, ::-1] \n",
    "\n",
    "    for i in range(num_clusters):\n",
    "        print(\"Cluster %d words:\" % i, end='')\n",
    "\n",
    "        for ind in order_centroids[i, :6]: #replace 6 with n words per cluster\n",
    "            print(' %s' % vocab_frame.ix[terms[ind].split(' ')].values.tolist()[0][0].encode('utf-8', 'ignore'), end=',')\n",
    "        print() #add whitespace\n",
    "        print() #add whitespace\n",
    "\n",
    "        cluster_classes = df_train[df_train['cluster'] == i]['READMISSION'].value_counts()\n",
    "        cluster_classes = 1.0 * cluster_classes / df_train[df_train['cluster'] == i].shape[0]\n",
    "        print(cluster_classes)\n",
    "        print() #add whitespace\n",
    "        print() #add whitespace\n",
    "\n",
    "    print()\n",
    "    print()\n",
    "    \n",
    "    return km"
   ]
  },
  {
   "cell_type": "markdown",
   "metadata": {},
   "source": [
    "#### Clustering"
   ]
  },
  {
   "cell_type": "code",
   "execution_count": 109,
   "metadata": {
    "collapsed": false
   },
   "outputs": [
    {
     "name": "stdout",
     "output_type": "stream",
     "text": [
      "there are 121780 items in vocab_frame\n"
     ]
    }
   ],
   "source": [
    "# create vocab frame for cluster visualization\n",
    "vocab_frame = get_vocab_frame(train_df,'DESCRIPTION')"
   ]
  },
  {
   "cell_type": "code",
   "execution_count": 110,
   "metadata": {
    "collapsed": false
   },
   "outputs": [
    {
     "name": "stderr",
     "output_type": "stream",
     "text": [
      "/Users/ipatel/anaconda/lib/python2.7/site-packages/ipykernel/__main__.py:7: SettingWithCopyWarning: \n",
      "A value is trying to be set on a copy of a slice from a DataFrame.\n",
      "Try using .loc[row_indexer,col_indexer] = value instead\n",
      "\n",
      "See the caveats in the documentation: http://pandas.pydata.org/pandas-docs/stable/indexing.html#indexing-view-versus-copy\n"
     ]
    },
    {
     "name": "stdout",
     "output_type": "stream",
     "text": [
      "Cluster Value Counts:\n",
      "2    28018\n",
      "4     1554\n",
      "1     1332\n",
      "6     1059\n",
      "0      769\n",
      "5      642\n",
      "3      318\n",
      "Name: cluster, dtype: int64\n",
      "Top terms per cluster:\n",
      "\n",
      "Cluster 0 words: septicemia, disseminated, disseminated, septicemia, septicemia, infections,\n",
      "\n",
      "False    0.773732\n",
      "True     0.226268\n",
      "Name: READMISSION, dtype: float64\n",
      "\n",
      "\n",
      "Cluster 1 words: cardiac, cardiac, cardiac, valve, valve, cardiac,\n",
      "\n",
      "False    0.882883\n",
      "True     0.117117\n",
      "Name: READMISSION, dtype: float64\n",
      "\n",
      "\n",
      "Cluster 2 words: trauma, craniotomy, craniotomy, hemorrhage, vascular, disorders,\n",
      "\n",
      "False    0.807945\n",
      "True     0.192055\n",
      "Name: READMISSION, dtype: float64\n",
      "\n",
      "\n",
      "Cluster 3 words: large, bowel, small, small, small, large,\n",
      "\n",
      "False    0.779874\n",
      "True     0.220126\n",
      "Name: READMISSION, dtype: float64\n",
      "\n",
      "\n",
      "Cluster 4 words: neonate, problem, newborn, normal, normal, normal,\n",
      "\n",
      "False    0.972973\n",
      "True     0.027027\n",
      "Name: READMISSION, dtype: float64\n",
      "\n",
      "\n",
      "Cluster 5 words: cardiac, bypass, bypass, w/, coronary, w/,\n",
      "\n",
      "False    0.9081\n",
      "True     0.0919\n",
      "Name: READMISSION, dtype: float64\n",
      "\n",
      "\n",
      "Cluster 6 words: cardiac, coronary, bypass, bypass, w/o, bypass,\n",
      "\n",
      "False    0.939566\n",
      "True     0.060434\n",
      "Name: READMISSION, dtype: float64\n",
      "\n",
      "\n",
      "\n",
      "\n"
     ]
    },
    {
     "name": "stderr",
     "output_type": "stream",
     "text": [
      "/Users/ipatel/anaconda/lib/python2.7/site-packages/ipykernel/__main__.py:4: SettingWithCopyWarning: \n",
      "A value is trying to be set on a copy of a slice from a DataFrame.\n",
      "Try using .loc[row_indexer,col_indexer] = value instead\n",
      "\n",
      "See the caveats in the documentation: http://pandas.pydata.org/pandas-docs/stable/indexing.html#indexing-view-versus-copy\n",
      "/Users/ipatel/anaconda/lib/python2.7/site-packages/ipykernel/__main__.py:5: SettingWithCopyWarning: \n",
      "A value is trying to be set on a copy of a slice from a DataFrame.\n",
      "Try using .loc[row_indexer,col_indexer] = value instead\n",
      "\n",
      "See the caveats in the documentation: http://pandas.pydata.org/pandas-docs/stable/indexing.html#indexing-view-versus-copy\n"
     ]
    }
   ],
   "source": [
    "# run k-means clustering and input it into dataset\n",
    "clusters = 7\n",
    "km = cluster_text(train_df, clusters, vocab_frame, tfidf_matrix_train, terms)\n",
    "train_df['DESCRIPTION_CLUSTER'] = km.predict(tfidf_matrix_train)\n",
    "test_df['DESCRIPTION_CLUSTER'] = km.predict(tfidf_matrix_test)"
   ]
  },
  {
   "cell_type": "code",
   "execution_count": 114,
   "metadata": {
    "collapsed": false
   },
   "outputs": [
    {
     "data": {
      "image/png": "[encoded data removed]",
      "text/plain": [
       "<matplotlib.figure.Figure at 0x11c833a10>"
      ]
     },
     "metadata": {},
     "output_type": "display_data"
    }
   ],
   "source": [
    "# get cluster summmary for graph\n",
    "no_readmission_cluster = train_df[train_df['READMISSION'] == False]['DESCRIPTION_CLUSTER'].value_counts()\n",
    "readmission_cluster = train_df[train_df['READMISSION'] == True]['DESCRIPTION_CLUSTER'].value_counts()\n",
    "cluster_summary = [[cluster, no_readmission_cluster[cluster], readmission_cluster[cluster]] for cluster in range(clusters)]\n",
    "cluster_summary = pd.DataFrame(cluster_summary, columns=['Cluster', 'No Readmission', 'Readmission'])\n",
    "cluster_summary['Total'] = cluster_summary['No Readmission'] + cluster_summary['Readmission']\n",
    "cluster_summary['No Readmission'] = 1.0 * cluster_summary['No Readmission'] / cluster_summary['Total']\n",
    "cluster_summary['Readmission'] = 1.0 * cluster_summary['Readmission'] / cluster_summary['Total']\n",
    "\n",
    "# graph cluster summary\n",
    "ind = np.arange(clusters)\n",
    "labels = ind\n",
    "\n",
    "fig, ax = plt.subplots()\n",
    "\n",
    "no_readmission_axis = ax.bar(ind, cluster_summary['No Readmission'].tolist(), label = 'No Readmission', width = width)\n",
    "readmission_axis = ax.bar(ind, cluster_summary['Readmission'].tolist(), bottom = cluster_summary['No Readmission'].tolist(), label = 'Readmission', width = width)\n",
    "\n",
    "ax.set_ylabel('% of Total')\n",
    "ax.set_title('Class by Cluster')\n",
    "ax.set_xticks(ind)\n",
    "ax.set_xticklabels(labels)\n",
    "\n",
    "ax.legend((no_readmission_axis[0], readmission_axis[0]), ('No Readmission', 'Readmission'))\n",
    "\n",
    "ax.plot([0, 6], [(1.0*train_no_readmission / train_df.shape[0]), (1.0*train_no_readmission / train_df.shape[0])], \"k--\")\n",
    "\n",
    "plt.show()"
   ]
  }
 ],
 "metadata": {
  "kernelspec": {
   "display_name": "Python 2",
   "language": "python",
   "name": "python2"
  },
  "language_info": {
   "codemirror_mode": {
    "name": "ipython",
    "version": 2
   },
   "file_extension": ".py",
   "mimetype": "text/x-python",
   "name": "python",
   "nbconvert_exporter": "python",
   "pygments_lexer": "ipython2",
   "version": "2.7.13"
  }
 },
 "nbformat": 4,
 "nbformat_minor": 2
}
