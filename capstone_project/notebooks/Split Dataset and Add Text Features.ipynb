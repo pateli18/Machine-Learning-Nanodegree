{
 "cells": [
  {
   "cell_type": "markdown",
   "metadata": {},
   "source": [
    "# Libraries and Helper Functions"
   ]
  },
  {
   "cell_type": "code",
   "execution_count": 205,
   "metadata": {
    "collapsed": true
   },
   "outputs": [],
   "source": [
    "import pandas as pd\n",
    "import numpy as np\n",
    "import matplotlib.pyplot as plt\n",
    "%matplotlib inline\n",
    "from sklearn.model_selection import train_test_split\n",
    "from sklearn.feature_extraction.text import TfidfVectorizer\n",
    "import nltk\n",
    "from nltk.stem.snowball import SnowballStemmer\n",
    "import re\n",
    "from sklearn.cluster import KMeans\n",
    "from __future__ import print_function\n",
    "from sklearn.decomposition import TruncatedSVD"
   ]
  },
  {
   "cell_type": "code",
   "execution_count": 206,
   "metadata": {
    "collapsed": true
   },
   "outputs": [],
   "source": [
    "def convert_categorical(df, column_name):\n",
    "    dummy_columns = pd.get_dummies(df[column_name])\n",
    "    df = pd.concat([df, dummy_columns], axis = 1)\n",
    "    df = df.drop(column_name, axis = 1)\n",
    "    return df"
   ]
  },
  {
   "cell_type": "markdown",
   "metadata": {},
   "source": [
    "# Split Dataset"
   ]
  },
  {
   "cell_type": "code",
   "execution_count": 207,
   "metadata": {
    "collapsed": false
   },
   "outputs": [],
   "source": [
    "# load and split data\n",
    "main_df = pd.read_csv('full_dataset.csv')\n",
    "train_df, test_df = train_test_split(main_df, test_size = .2, random_state = 42)\n",
    "train_df = train_df.reset_index(drop=True)\n",
    "test_df = test_df.reset_index(drop=True)"
   ]
  },
  {
   "cell_type": "code",
   "execution_count": 208,
   "metadata": {
    "collapsed": false,
    "scrolled": false
   },
   "outputs": [
    {
     "name": "stdout",
     "output_type": "stream",
     "text": [
      "Train Size: (33692, 90)\n",
      "Test Size: (8423, 90)\n"
     ]
    },
    {
     "data": {
      "image/png": "[encoded data removed]",
      "text/plain": [
       "<matplotlib.figure.Figure at 0x12196d210>"
      ]
     },
     "metadata": {},
     "output_type": "display_data"
    }
   ],
   "source": [
    "# print total size\n",
    "print(\"Train Size: {0}\".format(train_df.shape))\n",
    "print(\"Test Size: {0}\".format(test_df.shape))\n",
    "\n",
    "# get class counts by dataset\n",
    "train_no_readmission = train_df[train_df['READMISSION'] == False].shape[0]\n",
    "train_readmission = train_df[train_df['READMISSION'] == True].shape[0]\n",
    "test_no_readmission = test_df[test_df['READMISSION'] == False].shape[0]\n",
    "test_readmission = test_df[test_df['READMISSION'] == True].shape[0]\n",
    "\n",
    "# plot dataset splits\n",
    "labels = ['No Readmission', 'Readmission']\n",
    "train_graph_data = [train_no_readmission, train_readmission]\n",
    "test_graph_data = [test_no_readmission, test_readmission]\n",
    "\n",
    "fig = plt.figure(figsize=(10,5))\n",
    "train_ax = fig.add_subplot(121)\n",
    "train_ax.pie(train_graph_data, labels=['No Readmission', 'Readmission'], autopct='%1.1f%%', startangle = 90)\n",
    "train_ax.set_title('Training Set')\n",
    "\n",
    "test_ax = fig.add_subplot(122)\n",
    "test_ax.pie(test_graph_data, labels=['No Readmission', 'Readmission'], autopct='%1.1f%%', startangle = 90)\n",
    "test_ax.set_title('Testing Set')\n",
    "\n",
    "plt.show()"
   ]
  },
  {
   "cell_type": "code",
   "execution_count": 209,
   "metadata": {
    "collapsed": true
   },
   "outputs": [],
   "source": [
    "# save train and test datasets\n",
    "train_df.to_csv('train_dataset.csv', index = False)\n",
    "test_df.to_csv('test_dataset.csv', index = False)"
   ]
  },
  {
   "cell_type": "markdown",
   "metadata": {},
   "source": [
    "# Add Text Features"
   ]
  },
  {
   "cell_type": "markdown",
   "metadata": {},
   "source": [
    "### Create TF-IDF"
   ]
  },
  {
   "cell_type": "code",
   "execution_count": 210,
   "metadata": {
    "collapsed": false
   },
   "outputs": [],
   "source": [
    "stopwords = nltk.corpus.stopwords.words('english')\n",
    "stemmer = SnowballStemmer(\"english\")\n",
    "def tokenize_and_stem(text):\n",
    "    # first tokenize by sentence, then by word to ensure that punctuation is caught as it's own token\n",
    "    tokens = [word for sent in nltk.sent_tokenize(text) for word in nltk.word_tokenize(sent)]\n",
    "    filtered_tokens = []\n",
    "    # filter out any tokens not containing letters (e.g., numeric tokens, raw punctuation)\n",
    "    for token in tokens:\n",
    "        if re.search('[a-zA-Z]', token):\n",
    "            filtered_tokens.append(token)\n",
    "    stems = [stemmer.stem(t) for t in filtered_tokens]\n",
    "    return stems\n",
    "\n",
    "def tokenize_only(text):\n",
    "    # first tokenize by sentence, then by word to ensure that punctuation is caught as it's own token\n",
    "    tokens = [word.lower() for sent in nltk.sent_tokenize(text) for word in nltk.word_tokenize(sent)]\n",
    "    filtered_tokens = []\n",
    "    # filter out any tokens not containing letters (e.g., numeric tokens, raw punctuation)\n",
    "    for token in tokens:\n",
    "        if re.search('[a-zA-Z]', token):\n",
    "            filtered_tokens.append(token)\n",
    "    return filtered_tokens"
   ]
  },
  {
   "cell_type": "code",
   "execution_count": 211,
   "metadata": {
    "collapsed": false
   },
   "outputs": [],
   "source": [
    "# create tf-idf matrix\n",
    "tfidf_vectorizer = TfidfVectorizer(max_df=.15, max_features=100000,\n",
    "                             min_df=5, stop_words='english',\n",
    "                             use_idf=True, tokenizer=tokenize_and_stem, ngram_range=(1,3))\n",
    "\n",
    "tfidf_matrix_train = tfidf_vectorizer.fit_transform(train_df['DESCRIPTION'])\n",
    "tfidf_matrix_test = tfidf_vectorizer.transform(test_df['DESCRIPTION'])\n",
    "terms = tfidf_vectorizer.get_feature_names()"
   ]
  },
  {
   "cell_type": "markdown",
   "metadata": {},
   "source": [
    "### K-Means Cluster"
   ]
  },
  {
   "cell_type": "markdown",
   "metadata": {},
   "source": [
    "#### Helper Functions"
   ]
  },
  {
   "cell_type": "code",
   "execution_count": 212,
   "metadata": {
    "collapsed": true
   },
   "outputs": [],
   "source": [
    "def get_vocab_frame(df, column_name):\n",
    "    column = df[column_name]\n",
    "    totalvocab_stemmed = []\n",
    "    totalvocab_tokenized = []\n",
    "    for j,i in column.iteritems():\n",
    "        allwords_stemmed = tokenize_and_stem(i) #for each item in 'description', tokenize/stem\n",
    "        totalvocab_stemmed.extend(allwords_stemmed) #extend the 'totalvocab_stemmed' list\n",
    "\n",
    "        allwords_tokenized = tokenize_only(i)\n",
    "        totalvocab_tokenized.extend(allwords_tokenized)\n",
    "        #if len(totalvocab_stemmed) != len(totalvocab_tokenized):\n",
    "        #    print(j)\n",
    "        #    print(i)\n",
    "    vocab_frame = pd.DataFrame({'words': totalvocab_tokenized}, index = totalvocab_stemmed)\n",
    "    print('there are ' + str(vocab_frame.shape[0]) + ' items in vocab_frame')\n",
    "    return vocab_frame"
   ]
  },
  {
   "cell_type": "code",
   "execution_count": 213,
   "metadata": {
    "collapsed": true
   },
   "outputs": [],
   "source": [
    "def cluster_text(df_train, num_clusters, vocab_frame, tfidf_matrix, terms):\n",
    "    \n",
    "    #kmeans cluster\n",
    "    km = KMeans(n_clusters=num_clusters, random_state = 42)\n",
    "    km.fit(tfidf_matrix)\n",
    "    clusters = km.labels_.tolist()\n",
    "    df_train['cluster'] = clusters\n",
    "    print('Cluster Value Counts:')\n",
    "    print(df_train['cluster'].value_counts())\n",
    "    \n",
    "    #view clusters\n",
    "    print(\"Top terms per cluster:\")\n",
    "    print()\n",
    "    #sort cluster centers by proximity to centroid\n",
    "    order_centroids = km.cluster_centers_.argsort()[:, ::-1] \n",
    "\n",
    "    for i in range(num_clusters):\n",
    "        print(\"Cluster %d words:\" % i, end='')\n",
    "\n",
    "        for ind in order_centroids[i, :6]: #replace 6 with n words per cluster\n",
    "            print(' %s' % vocab_frame.ix[terms[ind].split(' ')].values.tolist()[0][0].encode('utf-8', 'ignore'), end=',')\n",
    "        print() #add whitespace\n",
    "        print() #add whitespace\n",
    "\n",
    "        cluster_classes = df_train[df_train['cluster'] == i]['READMISSION'].value_counts()\n",
    "        cluster_classes = 1.0 * cluster_classes / df_train[df_train['cluster'] == i].shape[0]\n",
    "        print(cluster_classes)\n",
    "        print() #add whitespace\n",
    "        print() #add whitespace\n",
    "\n",
    "    print()\n",
    "    print()\n",
    "    \n",
    "    return km"
   ]
  },
  {
   "cell_type": "markdown",
   "metadata": {},
   "source": [
    "#### Clustering"
   ]
  },
  {
   "cell_type": "code",
   "execution_count": 214,
   "metadata": {
    "collapsed": false
   },
   "outputs": [
    {
     "name": "stdout",
     "output_type": "stream",
     "text": [
      "there are 121780 items in vocab_frame\n"
     ]
    }
   ],
   "source": [
    "# create vocab frame for cluster visualization\n",
    "vocab_frame = get_vocab_frame(train_df,'DESCRIPTION')"
   ]
  },
  {
   "cell_type": "code",
   "execution_count": 215,
   "metadata": {
    "collapsed": false
   },
   "outputs": [
    {
     "name": "stdout",
     "output_type": "stream",
     "text": [
      "Cluster Value Counts:\n",
      "2    28018\n",
      "4     1554\n",
      "1     1332\n",
      "6     1059\n",
      "0      769\n",
      "5      642\n",
      "3      318\n",
      "Name: cluster, dtype: int64\n",
      "Top terms per cluster:\n",
      "\n",
      "Cluster 0 words: septicemia, disseminated, disseminated, septicemia, septicemia, infections,\n",
      "\n",
      "False    0.773732\n",
      "True     0.226268\n",
      "Name: READMISSION, dtype: float64\n",
      "\n",
      "\n",
      "Cluster 1 words: cardiac, cardiac, cardiac, valve, valve, cardiac,\n",
      "\n",
      "False    0.882883\n",
      "True     0.117117\n",
      "Name: READMISSION, dtype: float64\n",
      "\n",
      "\n",
      "Cluster 2 words: trauma, craniotomy, craniotomy, hemorrhage, vascular, disorders,\n",
      "\n",
      "False    0.807945\n",
      "True     0.192055\n",
      "Name: READMISSION, dtype: float64\n",
      "\n",
      "\n",
      "Cluster 3 words: large, bowel, small, small, small, large,\n",
      "\n",
      "False    0.779874\n",
      "True     0.220126\n",
      "Name: READMISSION, dtype: float64\n",
      "\n",
      "\n",
      "Cluster 4 words: neonate, problem, newborn, normal, normal, normal,\n",
      "\n",
      "False    0.972973\n",
      "True     0.027027\n",
      "Name: READMISSION, dtype: float64\n",
      "\n",
      "\n",
      "Cluster 5 words: cardiac, bypass, bypass, w/, coronary, w/,\n",
      "\n",
      "False    0.9081\n",
      "True     0.0919\n",
      "Name: READMISSION, dtype: float64\n",
      "\n",
      "\n",
      "Cluster 6 words: cardiac, coronary, bypass, bypass, w/o, bypass,\n",
      "\n",
      "False    0.939566\n",
      "True     0.060434\n",
      "Name: READMISSION, dtype: float64\n",
      "\n",
      "\n",
      "\n",
      "\n"
     ]
    }
   ],
   "source": [
    "# run k-means clustering and input it into dataset\n",
    "clusters = 7\n",
    "km = cluster_text(train_df.copy(), clusters, vocab_frame, tfidf_matrix_train, terms)\n",
    "train_df['DESCRIPTION_CLUSTER'] = km.predict(tfidf_matrix_train)\n",
    "test_df['DESCRIPTION_CLUSTER'] = km.predict(tfidf_matrix_test)"
   ]
  },
  {
   "cell_type": "code",
   "execution_count": 216,
   "metadata": {
    "collapsed": false
   },
   "outputs": [
    {
     "data": {
      "image/png": "[encoded data removed]",
      "text/plain": [
       "<matplotlib.figure.Figure at 0x11f61f1d0>"
      ]
     },
     "metadata": {},
     "output_type": "display_data"
    }
   ],
   "source": [
    "# get cluster summmary for graph\n",
    "no_readmission_cluster = train_df[train_df['READMISSION'] == False]['DESCRIPTION_CLUSTER'].value_counts()\n",
    "readmission_cluster = train_df[train_df['READMISSION'] == True]['DESCRIPTION_CLUSTER'].value_counts()\n",
    "cluster_summary = [[cluster, no_readmission_cluster[cluster], readmission_cluster[cluster]] for cluster in range(clusters)]\n",
    "cluster_summary = pd.DataFrame(cluster_summary, columns=['Cluster', 'No Readmission', 'Readmission'])\n",
    "cluster_summary['Total'] = cluster_summary['No Readmission'] + cluster_summary['Readmission']\n",
    "cluster_summary['No Readmission'] = 1.0 * cluster_summary['No Readmission'] / cluster_summary['Total']\n",
    "cluster_summary['Readmission'] = 1.0 * cluster_summary['Readmission'] / cluster_summary['Total']\n",
    "\n",
    "# graph cluster summary\n",
    "ind = np.arange(clusters)\n",
    "labels = ind\n",
    "\n",
    "fig, ax = plt.subplots()\n",
    "\n",
    "no_readmission_axis = ax.bar(ind, cluster_summary['No Readmission'].tolist(), label = 'No Readmission', width = width)\n",
    "readmission_axis = ax.bar(ind, cluster_summary['Readmission'].tolist(), bottom = cluster_summary['No Readmission'].tolist(), label = 'Readmission', width = width)\n",
    "\n",
    "ax.set_ylabel('% of Total')\n",
    "ax.set_title('Class by Cluster')\n",
    "ax.set_xticks(ind)\n",
    "ax.set_xticklabels(labels)\n",
    "\n",
    "ax.legend((no_readmission_axis[0], readmission_axis[0]), ('No Readmission', 'Readmission'))\n",
    "\n",
    "ax.plot([0, 6], [(1.0*train_no_readmission / train_df.shape[0]), (1.0*train_no_readmission / train_df.shape[0])], \"k--\")\n",
    "\n",
    "plt.show()"
   ]
  },
  {
   "cell_type": "code",
   "execution_count": 217,
   "metadata": {
    "collapsed": true
   },
   "outputs": [],
   "source": [
    "# format cluster labels\n",
    "train_df['DESCRIPTION_CLUSTER'] = train_df['DESCRIPTION_CLUSTER'].apply(lambda x: 'Text Cluster - {0}'.format(x))\n",
    "test_df['DESCRIPTION_CLUSTER'] = test_df['DESCRIPTION_CLUSTER'].apply(lambda x: 'Text Cluster - {0}'.format(x))\n",
    "\n",
    "train_df = convert_categorical(train_df, 'DESCRIPTION_CLUSTER')\n",
    "test_df = convert_categorical(test_df, 'DESCRIPTION_CLUSTER')"
   ]
  },
  {
   "cell_type": "markdown",
   "metadata": {},
   "source": [
    "# PCA"
   ]
  },
  {
   "cell_type": "code",
   "execution_count": 218,
   "metadata": {
    "collapsed": false
   },
   "outputs": [],
   "source": [
    "# calculate PCA explained variance ratio for a number of different component levels\n",
    "X_pca = []\n",
    "y_pca = []\n",
    "max_components = 500\n",
    "pca = TruncatedSVD(n_components=max_components)\n",
    "pca.fit(tfidf_matrix_train)\n",
    "for i in range(max_components):\n",
    "    explained_ratio = pca.explained_variance_ratio_[:(i + 1)].sum()\n",
    "    X_pca.append(i)\n",
    "    y_pca.append(explained_ratio)"
   ]
  },
  {
   "cell_type": "code",
   "execution_count": 219,
   "metadata": {
    "collapsed": false
   },
   "outputs": [
    {
     "data": {
      "image/png": "[encoded data removed]",
      "text/plain": [
       "<matplotlib.figure.Figure at 0x12e5a3dd0>"
      ]
     },
     "metadata": {},
     "output_type": "display_data"
    }
   ],
   "source": [
    "# plot pca explained variance ratio\n",
    "fig, ax = plt.subplots()\n",
    "\n",
    "ax.plot(X_pca, y_pca)\n",
    "ax.set_ylabel('Explained Variance Ratio')\n",
    "ax.set_title('PCA - Explained Variance Ratio')\n",
    "ax.set_xlabel('PCA Components')\n",
    "\n",
    "plt.show()"
   ]
  },
  {
   "cell_type": "code",
   "execution_count": 220,
   "metadata": {
    "collapsed": false
   },
   "outputs": [
    {
     "name": "stdout",
     "output_type": "stream",
     "text": [
      "Explained Variance Ratio: 49.40%\n",
      "(33692, 97)\n",
      "(8423, 97)\n",
      "(33692, 117)\n",
      "(8423, 117)\n"
     ]
    },
    {
     "data": {
      "text/html": [
       "<div>\n",
       "<table border=\"1\" class=\"dataframe\">\n",
       "  <thead>\n",
       "    <tr style=\"text-align: right;\">\n",
       "      <th></th>\n",
       "      <th>SUBJECT_ID</th>\n",
       "      <th>HADM_ID</th>\n",
       "      <th>READMISSION</th>\n",
       "      <th>DURATION_OF_STAY</th>\n",
       "      <th>ELECTIVE</th>\n",
       "      <th>EMERGENCY</th>\n",
       "      <th>NEWBORN</th>\n",
       "      <th>URGENT</th>\n",
       "      <th>CLINIC REFERRAL/PREMATURE</th>\n",
       "      <th>EMERGENCY ROOM ADMIT</th>\n",
       "      <th>...</th>\n",
       "      <th>Text PCA - 10</th>\n",
       "      <th>Text PCA - 11</th>\n",
       "      <th>Text PCA - 12</th>\n",
       "      <th>Text PCA - 13</th>\n",
       "      <th>Text PCA - 14</th>\n",
       "      <th>Text PCA - 15</th>\n",
       "      <th>Text PCA - 16</th>\n",
       "      <th>Text PCA - 17</th>\n",
       "      <th>Text PCA - 18</th>\n",
       "      <th>Text PCA - 19</th>\n",
       "    </tr>\n",
       "  </thead>\n",
       "  <tbody>\n",
       "    <tr>\n",
       "      <th>0</th>\n",
       "      <td>24877</td>\n",
       "      <td>119003</td>\n",
       "      <td>False</td>\n",
       "      <td>930.633333</td>\n",
       "      <td>0</td>\n",
       "      <td>1</td>\n",
       "      <td>0</td>\n",
       "      <td>0</td>\n",
       "      <td>0</td>\n",
       "      <td>1</td>\n",
       "      <td>...</td>\n",
       "      <td>1.132115e-15</td>\n",
       "      <td>2.694891e-15</td>\n",
       "      <td>-3.652179e-16</td>\n",
       "      <td>-4.581564e-15</td>\n",
       "      <td>-4.789478e-16</td>\n",
       "      <td>-6.176344e-16</td>\n",
       "      <td>2.230913e-15</td>\n",
       "      <td>4.118463e-15</td>\n",
       "      <td>-1.014517e-15</td>\n",
       "      <td>-1.442369e-15</td>\n",
       "    </tr>\n",
       "    <tr>\n",
       "      <th>1</th>\n",
       "      <td>20567</td>\n",
       "      <td>110833</td>\n",
       "      <td>False</td>\n",
       "      <td>241.933333</td>\n",
       "      <td>0</td>\n",
       "      <td>1</td>\n",
       "      <td>0</td>\n",
       "      <td>0</td>\n",
       "      <td>0</td>\n",
       "      <td>0</td>\n",
       "      <td>...</td>\n",
       "      <td>1.263895e-15</td>\n",
       "      <td>3.306821e-15</td>\n",
       "      <td>1.756401e-15</td>\n",
       "      <td>-1.936666e-16</td>\n",
       "      <td>-3.039540e-15</td>\n",
       "      <td>1.952458e-15</td>\n",
       "      <td>3.792321e-16</td>\n",
       "      <td>2.367526e-15</td>\n",
       "      <td>-3.528416e-15</td>\n",
       "      <td>1.117349e-16</td>\n",
       "    </tr>\n",
       "    <tr>\n",
       "      <th>2</th>\n",
       "      <td>21318</td>\n",
       "      <td>110454</td>\n",
       "      <td>True</td>\n",
       "      <td>330.883333</td>\n",
       "      <td>0</td>\n",
       "      <td>0</td>\n",
       "      <td>0</td>\n",
       "      <td>1</td>\n",
       "      <td>0</td>\n",
       "      <td>0</td>\n",
       "      <td>...</td>\n",
       "      <td>2.023915e-15</td>\n",
       "      <td>3.035097e-15</td>\n",
       "      <td>3.052349e-15</td>\n",
       "      <td>-8.278962e-15</td>\n",
       "      <td>-9.275058e-17</td>\n",
       "      <td>1.406316e-16</td>\n",
       "      <td>5.847657e-15</td>\n",
       "      <td>1.677938e-15</td>\n",
       "      <td>-5.051524e-16</td>\n",
       "      <td>-2.407962e-15</td>\n",
       "    </tr>\n",
       "    <tr>\n",
       "      <th>3</th>\n",
       "      <td>45146</td>\n",
       "      <td>121126</td>\n",
       "      <td>False</td>\n",
       "      <td>114.833333</td>\n",
       "      <td>0</td>\n",
       "      <td>1</td>\n",
       "      <td>0</td>\n",
       "      <td>0</td>\n",
       "      <td>0</td>\n",
       "      <td>1</td>\n",
       "      <td>...</td>\n",
       "      <td>1.515919e-04</td>\n",
       "      <td>-2.534786e-02</td>\n",
       "      <td>-5.407663e-02</td>\n",
       "      <td>1.359318e-02</td>\n",
       "      <td>-5.401725e-03</td>\n",
       "      <td>4.175185e-02</td>\n",
       "      <td>1.261166e-02</td>\n",
       "      <td>-6.148450e-02</td>\n",
       "      <td>-1.142921e-01</td>\n",
       "      <td>-9.565644e-03</td>\n",
       "    </tr>\n",
       "    <tr>\n",
       "      <th>4</th>\n",
       "      <td>52109</td>\n",
       "      <td>139731</td>\n",
       "      <td>True</td>\n",
       "      <td>151.900000</td>\n",
       "      <td>0</td>\n",
       "      <td>1</td>\n",
       "      <td>0</td>\n",
       "      <td>0</td>\n",
       "      <td>0</td>\n",
       "      <td>1</td>\n",
       "      <td>...</td>\n",
       "      <td>6.250832e-03</td>\n",
       "      <td>-1.519417e-03</td>\n",
       "      <td>4.010462e-03</td>\n",
       "      <td>-1.979727e-03</td>\n",
       "      <td>-5.246665e-03</td>\n",
       "      <td>1.970318e-03</td>\n",
       "      <td>8.365237e-03</td>\n",
       "      <td>-1.930452e-02</td>\n",
       "      <td>1.278057e-01</td>\n",
       "      <td>9.526205e-01</td>\n",
       "    </tr>\n",
       "  </tbody>\n",
       "</table>\n",
       "<p>5 rows × 117 columns</p>\n",
       "</div>"
      ],
      "text/plain": [
       "   SUBJECT_ID  HADM_ID READMISSION  DURATION_OF_STAY  ELECTIVE  EMERGENCY  \\\n",
       "0       24877   119003       False        930.633333         0          1   \n",
       "1       20567   110833       False        241.933333         0          1   \n",
       "2       21318   110454        True        330.883333         0          0   \n",
       "3       45146   121126       False        114.833333         0          1   \n",
       "4       52109   139731        True        151.900000         0          1   \n",
       "\n",
       "   NEWBORN  URGENT  CLINIC REFERRAL/PREMATURE  EMERGENCY ROOM ADMIT  \\\n",
       "0        0       0                          0                     1   \n",
       "1        0       0                          0                     0   \n",
       "2        0       1                          0                     0   \n",
       "3        0       0                          0                     1   \n",
       "4        0       0                          0                     1   \n",
       "\n",
       "       ...        Text PCA - 10  Text PCA - 11  Text PCA - 12  Text PCA - 13  \\\n",
       "0      ...         1.132115e-15   2.694891e-15  -3.652179e-16  -4.581564e-15   \n",
       "1      ...         1.263895e-15   3.306821e-15   1.756401e-15  -1.936666e-16   \n",
       "2      ...         2.023915e-15   3.035097e-15   3.052349e-15  -8.278962e-15   \n",
       "3      ...         1.515919e-04  -2.534786e-02  -5.407663e-02   1.359318e-02   \n",
       "4      ...         6.250832e-03  -1.519417e-03   4.010462e-03  -1.979727e-03   \n",
       "\n",
       "   Text PCA - 14  Text PCA - 15  Text PCA - 16  Text PCA - 17  Text PCA - 18  \\\n",
       "0  -4.789478e-16  -6.176344e-16   2.230913e-15   4.118463e-15  -1.014517e-15   \n",
       "1  -3.039540e-15   1.952458e-15   3.792321e-16   2.367526e-15  -3.528416e-15   \n",
       "2  -9.275058e-17   1.406316e-16   5.847657e-15   1.677938e-15  -5.051524e-16   \n",
       "3  -5.401725e-03   4.175185e-02   1.261166e-02  -6.148450e-02  -1.142921e-01   \n",
       "4  -5.246665e-03   1.970318e-03   8.365237e-03  -1.930452e-02   1.278057e-01   \n",
       "\n",
       "   Text PCA - 19  \n",
       "0  -1.442369e-15  \n",
       "1   1.117349e-16  \n",
       "2  -2.407962e-15  \n",
       "3  -9.565644e-03  \n",
       "4   9.526205e-01  \n",
       "\n",
       "[5 rows x 117 columns]"
      ]
     },
     "execution_count": 220,
     "metadata": {},
     "output_type": "execute_result"
    }
   ],
   "source": [
    "# fit model to training set\n",
    "chosen_component = 20\n",
    "pca = TruncatedSVD(n_components=chosen_component)\n",
    "pca_train = pca.fit_transform(tfidf_matrix_train)\n",
    "pca_test = pca.transform(tfidf_matrix_test)\n",
    "print('Explained Variance Ratio: {0:.2f}%'.format(pca.explained_variance_ratio_.sum() * 100.))\n",
    "\n",
    "# add pca vectors to train and test sets\n",
    "pca_column_headers = ['Text PCA - {0}'.format(i) for i in range(chosen_component)]\n",
    "pca_train_df = pd.DataFrame(pca_train, columns = pca_column_headers)\n",
    "pca_test_df = pd.DataFrame(pca_test, columns = pca_column_headers)\n",
    "\n",
    "print(train_df.shape)\n",
    "print(test_df.shape)\n",
    "train_df = pd.concat([train_df, pca_train_df], axis = 1)\n",
    "test_df = pd.concat([test_df, pca_test_df], axis = 1)\n",
    "print(train_df.shape)\n",
    "print(test_df.shape)\n",
    "\n",
    "train_df.head()"
   ]
  },
  {
   "cell_type": "markdown",
   "metadata": {},
   "source": [
    "# Save Dataset and Remove Non-Feature Columns"
   ]
  },
  {
   "cell_type": "code",
   "execution_count": 222,
   "metadata": {
    "collapsed": false
   },
   "outputs": [
    {
     "name": "stdout",
     "output_type": "stream",
     "text": [
      "(33692, 114)\n",
      "(8423, 114)\n"
     ]
    }
   ],
   "source": [
    "train_df = train_df.drop(['SUBJECT_ID', 'HADM_ID', 'DESCRIPTION'], axis = 1)\n",
    "print(train_df.shape)\n",
    "test_df = test_df.drop(['SUBJECT_ID', 'HADM_ID', 'DESCRIPTION'], axis = 1)\n",
    "print(test_df.shape)\n",
    "\n",
    "train_df.to_csv('train_dataset.csv', index = False)\n",
    "test_df.to_csv('test_dataset.csv', index = False)"
   ]
  }
 ],
 "metadata": {
  "kernelspec": {
   "display_name": "Python 2",
   "language": "python",
   "name": "python2"
  },
  "language_info": {
   "codemirror_mode": {
    "name": "ipython",
    "version": 2
   },
   "file_extension": ".py",
   "mimetype": "text/x-python",
   "name": "python",
   "nbconvert_exporter": "python",
   "pygments_lexer": "ipython2",
   "version": "2.7.13"
  }
 },
 "nbformat": 4,
 "nbformat_minor": 2
}
