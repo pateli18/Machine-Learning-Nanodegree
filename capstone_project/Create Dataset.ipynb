{
 "cells": [
  {
   "cell_type": "markdown",
   "metadata": {},
   "source": [
    "# Libraries and Helper Functions"
   ]
  },
  {
   "cell_type": "code",
   "execution_count": 812,
   "metadata": {
    "collapsed": false
   },
   "outputs": [],
   "source": [
    "import pandas as pd\n",
    "import numpy as np\n",
    "import matplotlib.pyplot as plt\n",
    "%matplotlib inline"
   ]
  },
  {
   "cell_type": "code",
   "execution_count": 813,
   "metadata": {
    "collapsed": true
   },
   "outputs": [],
   "source": [
    "def plot_continuous(df, column_name, bins):\n",
    "    no_readmission = df[(df['READMISSION'] == False) & (df[column_name].notnull())][column_name]\n",
    "    readmission = df[(df['READMISSION'] == True) & (df[column_name].notnull())][column_name]\n",
    "\n",
    "    plt.hist(no_readmission, bins, alpha=0.5, label='No Readmission')\n",
    "    plt.hist(readmission, bins, alpha=0.5, label='Readmission')\n",
    "    plt.xlabel(column_name)\n",
    "    plt.ylabel('Count')\n",
    "    plt.title(column_name + ' by Class')\n",
    "    plt.legend(loc='upper right')\n",
    "    plt.show()    "
   ]
  },
  {
   "cell_type": "code",
   "execution_count": 814,
   "metadata": {
    "collapsed": true
   },
   "outputs": [],
   "source": [
    "def plot_categorical(df, column_name, width):\n",
    "    no_readmission_data = [(key, value) for key, value in df[df['READMISSION'] == False][column_name].value_counts().iteritems()]\n",
    "    readmission_data = [(key, value) for key, value in df[df['READMISSION'] == True][column_name].value_counts().iteritems()]\n",
    "    \n",
    "    ind = np.arange(len(readmission_data))\n",
    "    labels = np.asarray([value[0] for value in no_readmission_data])\n",
    "    \n",
    "    no_readmission = np.asarray([value[1] for value in no_readmission_data])\n",
    "    readmission = np.asarray([value[1] for value in readmission_data])\n",
    "    \n",
    "    fig, ax = plt.subplots()\n",
    "    \n",
    "    no_readmission_axis = ax.bar(ind, no_readmission, width)\n",
    "    readmission_axis = ax.bar(ind + width, readmission, width)\n",
    "    \n",
    "    ax.set_ylabel('Count')\n",
    "    ax.set_title(column_name + ' by Class')\n",
    "    ax.set_xticks(ind + width / 2)\n",
    "    ax.set_xticklabels(labels)\n",
    "\n",
    "    ax.legend((no_readmission_axis[0], readmission_axis[0]), ('No Readmission', 'Readmission'))\n",
    "    \n",
    "    plt.show()"
   ]
  },
  {
   "cell_type": "code",
   "execution_count": 815,
   "metadata": {
    "collapsed": true
   },
   "outputs": [],
   "source": [
    "def convert_categorical(df, column_name):\n",
    "    dummy_columns = pd.get_dummies(df[column_name])\n",
    "    df = pd.concat([df, dummy_columns], axis = 1)\n",
    "    df = df.drop(column_name, axis = 1)\n",
    "    return df"
   ]
  },
  {
   "cell_type": "code",
   "execution_count": 816,
   "metadata": {
    "collapsed": true
   },
   "outputs": [],
   "source": [
    "def adjust_years(date, decrease_factor):\n",
    "    if date == date:\n",
    "        year_old = date[:4]\n",
    "        year_new = str(int(year_old) - decrease_factor)\n",
    "        date = date.replace(year_old, year_new)\n",
    "        return date\n",
    "    return None"
   ]
  },
  {
   "cell_type": "markdown",
   "metadata": {},
   "source": [
    "# Classify Readmission Status for Each Record"
   ]
  },
  {
   "cell_type": "code",
   "execution_count": 817,
   "metadata": {
    "collapsed": true
   },
   "outputs": [],
   "source": [
    "admissions = pd.read_csv('../mimic-code/buildmimic/postgres/mimic-data/ADMISSIONS.csv')"
   ]
  },
  {
   "cell_type": "code",
   "execution_count": 818,
   "metadata": {
    "collapsed": false
   },
   "outputs": [
    {
     "name": "stdout",
     "output_type": "stream",
     "text": [
      "(58976, 19)\n"
     ]
    },
    {
     "data": {
      "text/html": [
       "<div>\n",
       "<table border=\"1\" class=\"dataframe\">\n",
       "  <thead>\n",
       "    <tr style=\"text-align: right;\">\n",
       "      <th></th>\n",
       "      <th>ROW_ID</th>\n",
       "      <th>SUBJECT_ID</th>\n",
       "      <th>HADM_ID</th>\n",
       "      <th>ADMITTIME</th>\n",
       "      <th>DISCHTIME</th>\n",
       "      <th>DEATHTIME</th>\n",
       "      <th>ADMISSION_TYPE</th>\n",
       "      <th>ADMISSION_LOCATION</th>\n",
       "      <th>DISCHARGE_LOCATION</th>\n",
       "      <th>INSURANCE</th>\n",
       "      <th>LANGUAGE</th>\n",
       "      <th>RELIGION</th>\n",
       "      <th>MARITAL_STATUS</th>\n",
       "      <th>ETHNICITY</th>\n",
       "      <th>EDREGTIME</th>\n",
       "      <th>EDOUTTIME</th>\n",
       "      <th>DIAGNOSIS</th>\n",
       "      <th>HOSPITAL_EXPIRE_FLAG</th>\n",
       "      <th>HAS_CHARTEVENTS_DATA</th>\n",
       "    </tr>\n",
       "  </thead>\n",
       "  <tbody>\n",
       "    <tr>\n",
       "      <th>0</th>\n",
       "      <td>21</td>\n",
       "      <td>22</td>\n",
       "      <td>165315</td>\n",
       "      <td>2196-04-09 12:26:00</td>\n",
       "      <td>2196-04-10 15:54:00</td>\n",
       "      <td>NaN</td>\n",
       "      <td>EMERGENCY</td>\n",
       "      <td>EMERGENCY ROOM ADMIT</td>\n",
       "      <td>DISC-TRAN CANCER/CHLDRN H</td>\n",
       "      <td>Private</td>\n",
       "      <td>NaN</td>\n",
       "      <td>UNOBTAINABLE</td>\n",
       "      <td>MARRIED</td>\n",
       "      <td>WHITE</td>\n",
       "      <td>2196-04-09 10:06:00</td>\n",
       "      <td>2196-04-09 13:24:00</td>\n",
       "      <td>BENZODIAZEPINE OVERDOSE</td>\n",
       "      <td>0</td>\n",
       "      <td>1</td>\n",
       "    </tr>\n",
       "    <tr>\n",
       "      <th>1</th>\n",
       "      <td>22</td>\n",
       "      <td>23</td>\n",
       "      <td>152223</td>\n",
       "      <td>2153-09-03 07:15:00</td>\n",
       "      <td>2153-09-08 19:10:00</td>\n",
       "      <td>NaN</td>\n",
       "      <td>ELECTIVE</td>\n",
       "      <td>PHYS REFERRAL/NORMAL DELI</td>\n",
       "      <td>HOME HEALTH CARE</td>\n",
       "      <td>Medicare</td>\n",
       "      <td>NaN</td>\n",
       "      <td>CATHOLIC</td>\n",
       "      <td>MARRIED</td>\n",
       "      <td>WHITE</td>\n",
       "      <td>NaN</td>\n",
       "      <td>NaN</td>\n",
       "      <td>CORONARY ARTERY DISEASE\\CORONARY ARTERY BYPASS...</td>\n",
       "      <td>0</td>\n",
       "      <td>1</td>\n",
       "    </tr>\n",
       "    <tr>\n",
       "      <th>2</th>\n",
       "      <td>23</td>\n",
       "      <td>23</td>\n",
       "      <td>124321</td>\n",
       "      <td>2157-10-18 19:34:00</td>\n",
       "      <td>2157-10-25 14:00:00</td>\n",
       "      <td>NaN</td>\n",
       "      <td>EMERGENCY</td>\n",
       "      <td>TRANSFER FROM HOSP/EXTRAM</td>\n",
       "      <td>HOME HEALTH CARE</td>\n",
       "      <td>Medicare</td>\n",
       "      <td>ENGL</td>\n",
       "      <td>CATHOLIC</td>\n",
       "      <td>MARRIED</td>\n",
       "      <td>WHITE</td>\n",
       "      <td>NaN</td>\n",
       "      <td>NaN</td>\n",
       "      <td>BRAIN MASS</td>\n",
       "      <td>0</td>\n",
       "      <td>1</td>\n",
       "    </tr>\n",
       "    <tr>\n",
       "      <th>3</th>\n",
       "      <td>24</td>\n",
       "      <td>24</td>\n",
       "      <td>161859</td>\n",
       "      <td>2139-06-06 16:14:00</td>\n",
       "      <td>2139-06-09 12:48:00</td>\n",
       "      <td>NaN</td>\n",
       "      <td>EMERGENCY</td>\n",
       "      <td>TRANSFER FROM HOSP/EXTRAM</td>\n",
       "      <td>HOME</td>\n",
       "      <td>Private</td>\n",
       "      <td>NaN</td>\n",
       "      <td>PROTESTANT QUAKER</td>\n",
       "      <td>SINGLE</td>\n",
       "      <td>WHITE</td>\n",
       "      <td>NaN</td>\n",
       "      <td>NaN</td>\n",
       "      <td>INTERIOR MYOCARDIAL INFARCTION</td>\n",
       "      <td>0</td>\n",
       "      <td>1</td>\n",
       "    </tr>\n",
       "    <tr>\n",
       "      <th>4</th>\n",
       "      <td>25</td>\n",
       "      <td>25</td>\n",
       "      <td>129635</td>\n",
       "      <td>2160-11-02 02:06:00</td>\n",
       "      <td>2160-11-05 14:55:00</td>\n",
       "      <td>NaN</td>\n",
       "      <td>EMERGENCY</td>\n",
       "      <td>EMERGENCY ROOM ADMIT</td>\n",
       "      <td>HOME</td>\n",
       "      <td>Private</td>\n",
       "      <td>NaN</td>\n",
       "      <td>UNOBTAINABLE</td>\n",
       "      <td>MARRIED</td>\n",
       "      <td>WHITE</td>\n",
       "      <td>2160-11-02 01:01:00</td>\n",
       "      <td>2160-11-02 04:27:00</td>\n",
       "      <td>ACUTE CORONARY SYNDROME</td>\n",
       "      <td>0</td>\n",
       "      <td>1</td>\n",
       "    </tr>\n",
       "  </tbody>\n",
       "</table>\n",
       "</div>"
      ],
      "text/plain": [
       "   ROW_ID  SUBJECT_ID  HADM_ID            ADMITTIME            DISCHTIME  \\\n",
       "0      21          22   165315  2196-04-09 12:26:00  2196-04-10 15:54:00   \n",
       "1      22          23   152223  2153-09-03 07:15:00  2153-09-08 19:10:00   \n",
       "2      23          23   124321  2157-10-18 19:34:00  2157-10-25 14:00:00   \n",
       "3      24          24   161859  2139-06-06 16:14:00  2139-06-09 12:48:00   \n",
       "4      25          25   129635  2160-11-02 02:06:00  2160-11-05 14:55:00   \n",
       "\n",
       "  DEATHTIME ADMISSION_TYPE         ADMISSION_LOCATION  \\\n",
       "0       NaN      EMERGENCY       EMERGENCY ROOM ADMIT   \n",
       "1       NaN       ELECTIVE  PHYS REFERRAL/NORMAL DELI   \n",
       "2       NaN      EMERGENCY  TRANSFER FROM HOSP/EXTRAM   \n",
       "3       NaN      EMERGENCY  TRANSFER FROM HOSP/EXTRAM   \n",
       "4       NaN      EMERGENCY       EMERGENCY ROOM ADMIT   \n",
       "\n",
       "          DISCHARGE_LOCATION INSURANCE LANGUAGE           RELIGION  \\\n",
       "0  DISC-TRAN CANCER/CHLDRN H   Private      NaN       UNOBTAINABLE   \n",
       "1           HOME HEALTH CARE  Medicare      NaN           CATHOLIC   \n",
       "2           HOME HEALTH CARE  Medicare     ENGL           CATHOLIC   \n",
       "3                       HOME   Private      NaN  PROTESTANT QUAKER   \n",
       "4                       HOME   Private      NaN       UNOBTAINABLE   \n",
       "\n",
       "  MARITAL_STATUS ETHNICITY            EDREGTIME            EDOUTTIME  \\\n",
       "0        MARRIED     WHITE  2196-04-09 10:06:00  2196-04-09 13:24:00   \n",
       "1        MARRIED     WHITE                  NaN                  NaN   \n",
       "2        MARRIED     WHITE                  NaN                  NaN   \n",
       "3         SINGLE     WHITE                  NaN                  NaN   \n",
       "4        MARRIED     WHITE  2160-11-02 01:01:00  2160-11-02 04:27:00   \n",
       "\n",
       "                                           DIAGNOSIS  HOSPITAL_EXPIRE_FLAG  \\\n",
       "0                            BENZODIAZEPINE OVERDOSE                     0   \n",
       "1  CORONARY ARTERY DISEASE\\CORONARY ARTERY BYPASS...                     0   \n",
       "2                                         BRAIN MASS                     0   \n",
       "3                     INTERIOR MYOCARDIAL INFARCTION                     0   \n",
       "4                            ACUTE CORONARY SYNDROME                     0   \n",
       "\n",
       "   HAS_CHARTEVENTS_DATA  \n",
       "0                     1  \n",
       "1                     1  \n",
       "2                     1  \n",
       "3                     1  \n",
       "4                     1  "
      ]
     },
     "execution_count": 818,
     "metadata": {},
     "output_type": "execute_result"
    }
   ],
   "source": [
    "print(admissions.shape)\n",
    "admissions.head()"
   ]
  },
  {
   "cell_type": "code",
   "execution_count": 819,
   "metadata": {
    "collapsed": false
   },
   "outputs": [],
   "source": [
    "# get number of records for each subject id\n",
    "subject_id_counts = admissions['SUBJECT_ID'].value_counts()\n",
    "\n",
    "# mark all subject_ids with more than one record as case for readmission\n",
    "admissions['READMISSION'] = admissions['SUBJECT_ID'].apply(lambda subject_id: subject_id_counts[subject_id] > 1)"
   ]
  },
  {
   "cell_type": "code",
   "execution_count": 820,
   "metadata": {
    "collapsed": false
   },
   "outputs": [],
   "source": [
    "# Only keep the first admission and drop any records where the patient died during the initial admission\n",
    "main_df = admissions.drop_duplicates('SUBJECT_ID', keep = 'first')\n",
    "main_df = main_df[main_df['DEATHTIME'].isnull()]\n",
    "main_df = main_df[['SUBJECT_ID', 'HADM_ID', 'READMISSION']]"
   ]
  },
  {
   "cell_type": "code",
   "execution_count": 821,
   "metadata": {
    "collapsed": false
   },
   "outputs": [
    {
     "name": "stdout",
     "output_type": "stream",
     "text": [
      "(42115, 3)\n"
     ]
    },
    {
     "data": {
      "text/html": [
       "<div>\n",
       "<table border=\"1\" class=\"dataframe\">\n",
       "  <thead>\n",
       "    <tr style=\"text-align: right;\">\n",
       "      <th></th>\n",
       "      <th>SUBJECT_ID</th>\n",
       "      <th>HADM_ID</th>\n",
       "      <th>READMISSION</th>\n",
       "    </tr>\n",
       "  </thead>\n",
       "  <tbody>\n",
       "    <tr>\n",
       "      <th>0</th>\n",
       "      <td>22</td>\n",
       "      <td>165315</td>\n",
       "      <td>False</td>\n",
       "    </tr>\n",
       "    <tr>\n",
       "      <th>1</th>\n",
       "      <td>23</td>\n",
       "      <td>152223</td>\n",
       "      <td>True</td>\n",
       "    </tr>\n",
       "    <tr>\n",
       "      <th>3</th>\n",
       "      <td>24</td>\n",
       "      <td>161859</td>\n",
       "      <td>False</td>\n",
       "    </tr>\n",
       "    <tr>\n",
       "      <th>4</th>\n",
       "      <td>25</td>\n",
       "      <td>129635</td>\n",
       "      <td>False</td>\n",
       "    </tr>\n",
       "    <tr>\n",
       "      <th>5</th>\n",
       "      <td>26</td>\n",
       "      <td>197661</td>\n",
       "      <td>False</td>\n",
       "    </tr>\n",
       "  </tbody>\n",
       "</table>\n",
       "</div>"
      ],
      "text/plain": [
       "   SUBJECT_ID  HADM_ID READMISSION\n",
       "0          22   165315       False\n",
       "1          23   152223        True\n",
       "3          24   161859       False\n",
       "4          25   129635       False\n",
       "5          26   197661       False"
      ]
     },
     "execution_count": 821,
     "metadata": {},
     "output_type": "execute_result"
    }
   ],
   "source": [
    "print(main_df.shape)\n",
    "main_df.head()"
   ]
  },
  {
   "cell_type": "code",
   "execution_count": 822,
   "metadata": {
    "collapsed": true
   },
   "outputs": [],
   "source": [
    "main_df.to_csv('full_dataset.csv', index = False)"
   ]
  },
  {
   "cell_type": "markdown",
   "metadata": {},
   "source": [
    "# Format Admissions Features"
   ]
  },
  {
   "cell_type": "code",
   "execution_count": 823,
   "metadata": {
    "collapsed": true
   },
   "outputs": [],
   "source": [
    "admissions = pd.read_csv('../mimic-code/buildmimic/postgres/mimic-data/ADMISSIONS.csv')\n",
    "columns_to_keep = ['HADM_ID', 'ADMITTIME', 'DISCHTIME', 'ADMISSION_TYPE', 'ADMISSION_LOCATION', 'DISCHARGE_LOCATION',\n",
    "                  'INSURANCE', 'LANGUAGE', 'RELIGION', 'MARITAL_STATUS', 'ETHNICITY', 'EDREGTIME', 'EDOUTTIME']\n",
    "admissions = admissions[columns_to_keep]\n",
    "main_df = main_df.merge(admissions, how = 'left', on = 'HADM_ID')"
   ]
  },
  {
   "cell_type": "code",
   "execution_count": 824,
   "metadata": {
    "collapsed": false
   },
   "outputs": [
    {
     "name": "stdout",
     "output_type": "stream",
     "text": [
      "(42115, 15)\n"
     ]
    },
    {
     "data": {
      "text/html": [
       "<div>\n",
       "<table border=\"1\" class=\"dataframe\">\n",
       "  <thead>\n",
       "    <tr style=\"text-align: right;\">\n",
       "      <th></th>\n",
       "      <th>SUBJECT_ID</th>\n",
       "      <th>HADM_ID</th>\n",
       "      <th>READMISSION</th>\n",
       "      <th>ADMITTIME</th>\n",
       "      <th>DISCHTIME</th>\n",
       "      <th>ADMISSION_TYPE</th>\n",
       "      <th>ADMISSION_LOCATION</th>\n",
       "      <th>DISCHARGE_LOCATION</th>\n",
       "      <th>INSURANCE</th>\n",
       "      <th>LANGUAGE</th>\n",
       "      <th>RELIGION</th>\n",
       "      <th>MARITAL_STATUS</th>\n",
       "      <th>ETHNICITY</th>\n",
       "      <th>EDREGTIME</th>\n",
       "      <th>EDOUTTIME</th>\n",
       "    </tr>\n",
       "  </thead>\n",
       "  <tbody>\n",
       "    <tr>\n",
       "      <th>0</th>\n",
       "      <td>22</td>\n",
       "      <td>165315</td>\n",
       "      <td>False</td>\n",
       "      <td>2196-04-09 12:26:00</td>\n",
       "      <td>2196-04-10 15:54:00</td>\n",
       "      <td>EMERGENCY</td>\n",
       "      <td>EMERGENCY ROOM ADMIT</td>\n",
       "      <td>DISC-TRAN CANCER/CHLDRN H</td>\n",
       "      <td>Private</td>\n",
       "      <td>NaN</td>\n",
       "      <td>UNOBTAINABLE</td>\n",
       "      <td>MARRIED</td>\n",
       "      <td>WHITE</td>\n",
       "      <td>2196-04-09 10:06:00</td>\n",
       "      <td>2196-04-09 13:24:00</td>\n",
       "    </tr>\n",
       "    <tr>\n",
       "      <th>1</th>\n",
       "      <td>23</td>\n",
       "      <td>152223</td>\n",
       "      <td>True</td>\n",
       "      <td>2153-09-03 07:15:00</td>\n",
       "      <td>2153-09-08 19:10:00</td>\n",
       "      <td>ELECTIVE</td>\n",
       "      <td>PHYS REFERRAL/NORMAL DELI</td>\n",
       "      <td>HOME HEALTH CARE</td>\n",
       "      <td>Medicare</td>\n",
       "      <td>NaN</td>\n",
       "      <td>CATHOLIC</td>\n",
       "      <td>MARRIED</td>\n",
       "      <td>WHITE</td>\n",
       "      <td>NaN</td>\n",
       "      <td>NaN</td>\n",
       "    </tr>\n",
       "    <tr>\n",
       "      <th>2</th>\n",
       "      <td>24</td>\n",
       "      <td>161859</td>\n",
       "      <td>False</td>\n",
       "      <td>2139-06-06 16:14:00</td>\n",
       "      <td>2139-06-09 12:48:00</td>\n",
       "      <td>EMERGENCY</td>\n",
       "      <td>TRANSFER FROM HOSP/EXTRAM</td>\n",
       "      <td>HOME</td>\n",
       "      <td>Private</td>\n",
       "      <td>NaN</td>\n",
       "      <td>PROTESTANT QUAKER</td>\n",
       "      <td>SINGLE</td>\n",
       "      <td>WHITE</td>\n",
       "      <td>NaN</td>\n",
       "      <td>NaN</td>\n",
       "    </tr>\n",
       "    <tr>\n",
       "      <th>3</th>\n",
       "      <td>25</td>\n",
       "      <td>129635</td>\n",
       "      <td>False</td>\n",
       "      <td>2160-11-02 02:06:00</td>\n",
       "      <td>2160-11-05 14:55:00</td>\n",
       "      <td>EMERGENCY</td>\n",
       "      <td>EMERGENCY ROOM ADMIT</td>\n",
       "      <td>HOME</td>\n",
       "      <td>Private</td>\n",
       "      <td>NaN</td>\n",
       "      <td>UNOBTAINABLE</td>\n",
       "      <td>MARRIED</td>\n",
       "      <td>WHITE</td>\n",
       "      <td>2160-11-02 01:01:00</td>\n",
       "      <td>2160-11-02 04:27:00</td>\n",
       "    </tr>\n",
       "    <tr>\n",
       "      <th>4</th>\n",
       "      <td>26</td>\n",
       "      <td>197661</td>\n",
       "      <td>False</td>\n",
       "      <td>2126-05-06 15:16:00</td>\n",
       "      <td>2126-05-13 15:00:00</td>\n",
       "      <td>EMERGENCY</td>\n",
       "      <td>TRANSFER FROM HOSP/EXTRAM</td>\n",
       "      <td>HOME</td>\n",
       "      <td>Medicare</td>\n",
       "      <td>NaN</td>\n",
       "      <td>CATHOLIC</td>\n",
       "      <td>SINGLE</td>\n",
       "      <td>UNKNOWN/NOT SPECIFIED</td>\n",
       "      <td>NaN</td>\n",
       "      <td>NaN</td>\n",
       "    </tr>\n",
       "  </tbody>\n",
       "</table>\n",
       "</div>"
      ],
      "text/plain": [
       "   SUBJECT_ID  HADM_ID READMISSION            ADMITTIME            DISCHTIME  \\\n",
       "0          22   165315       False  2196-04-09 12:26:00  2196-04-10 15:54:00   \n",
       "1          23   152223        True  2153-09-03 07:15:00  2153-09-08 19:10:00   \n",
       "2          24   161859       False  2139-06-06 16:14:00  2139-06-09 12:48:00   \n",
       "3          25   129635       False  2160-11-02 02:06:00  2160-11-05 14:55:00   \n",
       "4          26   197661       False  2126-05-06 15:16:00  2126-05-13 15:00:00   \n",
       "\n",
       "  ADMISSION_TYPE         ADMISSION_LOCATION         DISCHARGE_LOCATION  \\\n",
       "0      EMERGENCY       EMERGENCY ROOM ADMIT  DISC-TRAN CANCER/CHLDRN H   \n",
       "1       ELECTIVE  PHYS REFERRAL/NORMAL DELI           HOME HEALTH CARE   \n",
       "2      EMERGENCY  TRANSFER FROM HOSP/EXTRAM                       HOME   \n",
       "3      EMERGENCY       EMERGENCY ROOM ADMIT                       HOME   \n",
       "4      EMERGENCY  TRANSFER FROM HOSP/EXTRAM                       HOME   \n",
       "\n",
       "  INSURANCE LANGUAGE           RELIGION MARITAL_STATUS              ETHNICITY  \\\n",
       "0   Private      NaN       UNOBTAINABLE        MARRIED                  WHITE   \n",
       "1  Medicare      NaN           CATHOLIC        MARRIED                  WHITE   \n",
       "2   Private      NaN  PROTESTANT QUAKER         SINGLE                  WHITE   \n",
       "3   Private      NaN       UNOBTAINABLE        MARRIED                  WHITE   \n",
       "4  Medicare      NaN           CATHOLIC         SINGLE  UNKNOWN/NOT SPECIFIED   \n",
       "\n",
       "             EDREGTIME            EDOUTTIME  \n",
       "0  2196-04-09 10:06:00  2196-04-09 13:24:00  \n",
       "1                  NaN                  NaN  \n",
       "2                  NaN                  NaN  \n",
       "3  2160-11-02 01:01:00  2160-11-02 04:27:00  \n",
       "4                  NaN                  NaN  "
      ]
     },
     "execution_count": 824,
     "metadata": {},
     "output_type": "execute_result"
    }
   ],
   "source": [
    "print(main_df.shape)\n",
    "main_df.head()"
   ]
  },
  {
   "cell_type": "markdown",
   "metadata": {},
   "source": [
    "#### Length of Stay"
   ]
  },
  {
   "cell_type": "code",
   "execution_count": 825,
   "metadata": {
    "collapsed": false
   },
   "outputs": [
    {
     "name": "stdout",
     "output_type": "stream",
     "text": [
      "Null Values: 0\n",
      "Null Values: 0\n",
      "2206-06-10 15:59:00\n"
     ]
    }
   ],
   "source": [
    "print(\"Null Values: {0}\".format(main_df['ADMITTIME'].isnull().sum()))\n",
    "print(\"Null Values: {0}\".format(main_df['DISCHTIME'].isnull().sum()))\n",
    "print(main_df['DISCHTIME'].max())"
   ]
  },
  {
   "cell_type": "code",
   "execution_count": 826,
   "metadata": {
    "collapsed": true
   },
   "outputs": [],
   "source": [
    "main_df['ADMITTIME'] = main_df['ADMITTIME'].apply(lambda date: adjust_years(date, 200))\n",
    "main_df['DISCHTIME'] = main_df['DISCHTIME'].apply(lambda date: adjust_years(date, 200))\n",
    "main_df['ADMITTIME'] = pd.to_datetime(main_df['ADMITTIME'])\n",
    "main_df['DISCHTIME'] = pd.to_datetime(main_df['DISCHTIME'])"
   ]
  },
  {
   "cell_type": "code",
   "execution_count": 827,
   "metadata": {
    "collapsed": false
   },
   "outputs": [],
   "source": [
    "main_df['DURATION_OF_STAY'] = main_df['DISCHTIME'] - main_df['ADMITTIME']\n",
    "main_df['DURATION_OF_STAY'] = main_df['DURATION_OF_STAY'].dt.days * 24 + main_df['DURATION_OF_STAY'].dt.seconds * 1.0 / 3600\n",
    "main_df = main_df.drop(['ADMITTIME', 'DISCHTIME'], axis = 1)"
   ]
  },
  {
   "cell_type": "code",
   "execution_count": 828,
   "metadata": {
    "collapsed": false
   },
   "outputs": [
    {
     "data": {
      "image/png": "[encoded data removed]",
      "text/plain": [
       "<matplotlib.figure.Figure at 0x154b2e650>"
      ]
     },
     "metadata": {},
     "output_type": "display_data"
    }
   ],
   "source": [
    "plot_continuous(main_df, 'DURATION_OF_STAY', 100)"
   ]
  },
  {
   "cell_type": "markdown",
   "metadata": {},
   "source": [
    "#### Admission Type"
   ]
  },
  {
   "cell_type": "code",
   "execution_count": 829,
   "metadata": {
    "collapsed": false
   },
   "outputs": [
    {
     "name": "stdout",
     "output_type": "stream",
     "text": [
      "Null Values: 0\n"
     ]
    },
    {
     "data": {
      "text/plain": [
       "EMERGENCY    27185\n",
       "NEWBORN       7767\n",
       "ELECTIVE      6147\n",
       "URGENT        1016\n",
       "Name: ADMISSION_TYPE, dtype: int64"
      ]
     },
     "execution_count": 829,
     "metadata": {},
     "output_type": "execute_result"
    }
   ],
   "source": [
    "print(\"Null Values: {0}\".format(main_df['ADMISSION_TYPE'].isnull().sum()))\n",
    "main_df['ADMISSION_TYPE'].value_counts()"
   ]
  },
  {
   "cell_type": "code",
   "execution_count": 830,
   "metadata": {
    "collapsed": false
   },
   "outputs": [
    {
     "data": {
      "image/png": "[encoded data removed]",
      "text/plain": [
       "<matplotlib.figure.Figure at 0x14454c1d0>"
      ]
     },
     "metadata": {},
     "output_type": "display_data"
    }
   ],
   "source": [
    "plot_categorical(main_df, 'ADMISSION_TYPE', 0.35)"
   ]
  },
  {
   "cell_type": "code",
   "execution_count": 831,
   "metadata": {
    "collapsed": false
   },
   "outputs": [],
   "source": [
    "main_df = convert_categorical(main_df, 'ADMISSION_TYPE')"
   ]
  },
  {
   "cell_type": "markdown",
   "metadata": {},
   "source": [
    "#### Admission Location"
   ]
  },
  {
   "cell_type": "code",
   "execution_count": 832,
   "metadata": {
    "collapsed": false
   },
   "outputs": [
    {
     "name": "stdout",
     "output_type": "stream",
     "text": [
      "Null Values: 0\n"
     ]
    },
    {
     "data": {
      "text/plain": [
       "EMERGENCY ROOM ADMIT         14391\n",
       "PHYS REFERRAL/NORMAL DELI    12722\n",
       "CLINIC REFERRAL/PREMATURE     8200\n",
       "TRANSFER FROM HOSP/EXTRAM     6353\n",
       "** INFO NOT AVAILABLE **       201\n",
       "TRANSFER FROM SKILLED NUR      127\n",
       "HMO REFERRAL/SICK               99\n",
       "TRANSFER FROM OTHER HEALT       20\n",
       "TRSF WITHIN THIS FACILITY        2\n",
       "Name: ADMISSION_LOCATION, dtype: int64"
      ]
     },
     "execution_count": 832,
     "metadata": {},
     "output_type": "execute_result"
    }
   ],
   "source": [
    "print(\"Null Values: {0}\".format(main_df['ADMISSION_LOCATION'].isnull().sum()))\n",
    "main_df['ADMISSION_LOCATION'].value_counts()"
   ]
  },
  {
   "cell_type": "code",
   "execution_count": 833,
   "metadata": {
    "collapsed": false
   },
   "outputs": [],
   "source": [
    "# consolidate small categories\n",
    "top_categories = [key for key, value in main_df['ADMISSION_LOCATION'].value_counts().iteritems() if value > 5000]\n",
    "main_df['ADMISSION_LOCATION'] = main_df['ADMISSION_LOCATION'].apply(lambda x: x if x in top_categories else 'Other Admission Location')"
   ]
  },
  {
   "cell_type": "code",
   "execution_count": 834,
   "metadata": {
    "collapsed": false
   },
   "outputs": [
    {
     "data": {
      "image/png": "[encoded data removed]",
      "text/plain": [
       "<matplotlib.figure.Figure at 0x14b9a0750>"
      ]
     },
     "metadata": {},
     "output_type": "display_data"
    }
   ],
   "source": [
    "plot_categorical(main_df, 'ADMISSION_LOCATION', 0.35)"
   ]
  },
  {
   "cell_type": "code",
   "execution_count": 835,
   "metadata": {
    "collapsed": true
   },
   "outputs": [],
   "source": [
    "main_df = convert_categorical(main_df, 'ADMISSION_LOCATION')"
   ]
  },
  {
   "cell_type": "markdown",
   "metadata": {},
   "source": [
    "#### Discharge Location"
   ]
  },
  {
   "cell_type": "code",
   "execution_count": 836,
   "metadata": {
    "collapsed": false
   },
   "outputs": [
    {
     "name": "stdout",
     "output_type": "stream",
     "text": [
      "Null Values: 0\n"
     ]
    },
    {
     "data": {
      "text/plain": [
       "HOME                         16083\n",
       "HOME HEALTH CARE             10925\n",
       "SNF                           5549\n",
       "REHAB/DISTINCT PART HOSP      5034\n",
       "SHORT TERM HOSPITAL           1439\n",
       "LONG TERM CARE HOSPITAL       1383\n",
       "DISC-TRAN CANCER/CHLDRN H      587\n",
       "DISCH-TRAN TO PSYCH HOSP       383\n",
       "HOSPICE-HOME                   267\n",
       "LEFT AGAINST MEDICAL ADVI      215\n",
       "HOSPICE-MEDICAL FACILITY       116\n",
       "OTHER FACILITY                  49\n",
       "HOME WITH HOME IV PROVIDR       42\n",
       "ICF                             31\n",
       "DISC-TRAN TO FEDERAL HC         11\n",
       "SNF-MEDICAID ONLY CERTIF         1\n",
       "Name: DISCHARGE_LOCATION, dtype: int64"
      ]
     },
     "execution_count": 836,
     "metadata": {},
     "output_type": "execute_result"
    }
   ],
   "source": [
    "print(\"Null Values: {0}\".format(main_df['DISCHARGE_LOCATION'].isnull().sum()))\n",
    "main_df['DISCHARGE_LOCATION'].value_counts()"
   ]
  },
  {
   "cell_type": "code",
   "execution_count": 837,
   "metadata": {
    "collapsed": true
   },
   "outputs": [],
   "source": [
    "# consolidate small categories\n",
    "top_categories = [key for key, value in main_df['DISCHARGE_LOCATION'].value_counts().iteritems() if value > 100]\n",
    "main_df['DISCHARGE_LOCATION'] = main_df['DISCHARGE_LOCATION'].apply(lambda x: x if x in top_categories else 'Other Discharge Location')"
   ]
  },
  {
   "cell_type": "code",
   "execution_count": 838,
   "metadata": {
    "collapsed": false
   },
   "outputs": [
    {
     "data": {
      "image/png": "[encoded data removed]",
      "text/plain": [
       "<matplotlib.figure.Figure at 0x14d4e9050>"
      ]
     },
     "metadata": {},
     "output_type": "display_data"
    }
   ],
   "source": [
    "plot_categorical(main_df, 'DISCHARGE_LOCATION', 0.35)"
   ]
  },
  {
   "cell_type": "code",
   "execution_count": 839,
   "metadata": {
    "collapsed": true
   },
   "outputs": [],
   "source": [
    "main_df = convert_categorical(main_df, 'DISCHARGE_LOCATION')"
   ]
  },
  {
   "cell_type": "markdown",
   "metadata": {},
   "source": [
    "#### Insurance"
   ]
  },
  {
   "cell_type": "code",
   "execution_count": 840,
   "metadata": {
    "collapsed": false
   },
   "outputs": [
    {
     "name": "stdout",
     "output_type": "stream",
     "text": [
      "Null Values: 0\n"
     ]
    },
    {
     "data": {
      "text/plain": [
       "Private       18472\n",
       "Medicare      17543\n",
       "Medicaid       4132\n",
       "Government     1476\n",
       "Self Pay        492\n",
       "Name: INSURANCE, dtype: int64"
      ]
     },
     "execution_count": 840,
     "metadata": {},
     "output_type": "execute_result"
    }
   ],
   "source": [
    "print(\"Null Values: {0}\".format(main_df['INSURANCE'].isnull().sum()))\n",
    "main_df['INSURANCE'].value_counts()"
   ]
  },
  {
   "cell_type": "code",
   "execution_count": 841,
   "metadata": {
    "collapsed": false
   },
   "outputs": [
    {
     "data": {
      "image/png": "[encoded data removed]",
      "text/plain": [
       "<matplotlib.figure.Figure at 0x154138e10>"
      ]
     },
     "metadata": {},
     "output_type": "display_data"
    }
   ],
   "source": [
    "plot_categorical(main_df, 'INSURANCE', 0.35)"
   ]
  },
  {
   "cell_type": "code",
   "execution_count": 842,
   "metadata": {
    "collapsed": true
   },
   "outputs": [],
   "source": [
    "main_df = convert_categorical(main_df, 'INSURANCE')"
   ]
  },
  {
   "cell_type": "markdown",
   "metadata": {},
   "source": [
    "#### Language"
   ]
  },
  {
   "cell_type": "code",
   "execution_count": 843,
   "metadata": {
    "collapsed": false,
    "scrolled": true
   },
   "outputs": [
    {
     "name": "stdout",
     "output_type": "stream",
     "text": [
      "Null Values: 19877\n"
     ]
    },
    {
     "data": {
      "text/plain": [
       "ENGL    19215\n",
       "SPAN      737\n",
       "RUSS      458\n",
       "PTUN      433\n",
       "CANT      281\n",
       "PORT      258\n",
       "CAPE      185\n",
       "MAND      123\n",
       "HAIT       96\n",
       "ITAL       74\n",
       "VIET       62\n",
       "GREE       44\n",
       "ARAB       26\n",
       "PERS       23\n",
       "POLI       22\n",
       "CAMB       20\n",
       "KORE       19\n",
       "HIND       19\n",
       "AMER       19\n",
       "ALBA       13\n",
       "FREN       10\n",
       "THAI        9\n",
       "ETHI        6\n",
       "SOMA        6\n",
       "*BEN        6\n",
       "*GUJ        5\n",
       "LAOT        4\n",
       "*ARM        4\n",
       "*CDI        3\n",
       "*BUL        3\n",
       "        ...  \n",
       "*TOI        2\n",
       "*URD        2\n",
       "*TOY        1\n",
       "*PER        1\n",
       "*BOS        1\n",
       "*MOR        1\n",
       "*TAM        1\n",
       "*LIT        1\n",
       "*PHI        1\n",
       "** T        1\n",
       "*NEP        1\n",
       "*ARA        1\n",
       "* FU        1\n",
       "*PUN        1\n",
       "* BE        1\n",
       "*SPA        1\n",
       "**SH        1\n",
       "SERB        1\n",
       "*YOR        1\n",
       "*HUN        1\n",
       "*KHM        1\n",
       "BENG        1\n",
       "*CAN        1\n",
       "*AMH        1\n",
       "*FIL        1\n",
       "*FUL        1\n",
       "**TO        1\n",
       "*CRE        1\n",
       "*MAN        1\n",
       "*FAR        1\n",
       "Name: LANGUAGE, dtype: int64"
      ]
     },
     "execution_count": 843,
     "metadata": {},
     "output_type": "execute_result"
    }
   ],
   "source": [
    "print(\"Null Values: {0}\".format(main_df['LANGUAGE'].isnull().sum()))\n",
    "main_df['LANGUAGE'].value_counts()"
   ]
  },
  {
   "cell_type": "code",
   "execution_count": 844,
   "metadata": {
    "collapsed": true
   },
   "outputs": [],
   "source": [
    "# consolidate all to english vs. non-english\n",
    "main_df['LANGUAGE'] = main_df['LANGUAGE'].apply(lambda x: x if x == x else 'Unknown Language')\n",
    "main_df['LANGUAGE'] = main_df['LANGUAGE'].apply(lambda x: x if x == 'ENGL' or x == 'Unknown Language' else 'Non-English')"
   ]
  },
  {
   "cell_type": "code",
   "execution_count": 845,
   "metadata": {
    "collapsed": false
   },
   "outputs": [
    {
     "data": {
      "image/png": "[encoded data removed]",
      "text/plain": [
       "<matplotlib.figure.Figure at 0x1540ff650>"
      ]
     },
     "metadata": {},
     "output_type": "display_data"
    }
   ],
   "source": [
    "plot_categorical(main_df, 'LANGUAGE', 0.35)"
   ]
  },
  {
   "cell_type": "code",
   "execution_count": 846,
   "metadata": {
    "collapsed": true
   },
   "outputs": [],
   "source": [
    "main_df = main_df.drop('LANGUAGE', axis = 1)"
   ]
  },
  {
   "cell_type": "markdown",
   "metadata": {},
   "source": [
    "#### Religion"
   ]
  },
  {
   "cell_type": "code",
   "execution_count": 847,
   "metadata": {
    "collapsed": false,
    "scrolled": true
   },
   "outputs": [
    {
     "name": "stdout",
     "output_type": "stream",
     "text": [
      "Null Values: 350\n"
     ]
    },
    {
     "data": {
      "text/plain": [
       "CATHOLIC                  14283\n",
       "NOT SPECIFIED              8854\n",
       "UNOBTAINABLE               6696\n",
       "PROTESTANT QUAKER          4660\n",
       "JEWISH                     3383\n",
       "OTHER                      1952\n",
       "EPISCOPALIAN                544\n",
       "CHRISTIAN SCIENTIST         336\n",
       "GREEK ORTHODOX              299\n",
       "BUDDHIST                    188\n",
       "MUSLIM                      149\n",
       "HINDU                        94\n",
       "JEHOVAH'S WITNESS            92\n",
       "UNITARIAN-UNIVERSALIST       91\n",
       "ROMANIAN EAST. ORTH          57\n",
       "7TH DAY ADVENTIST            52\n",
       "BAPTIST                      17\n",
       "HEBREW                       11\n",
       "METHODIST                     6\n",
       "LUTHERAN                      1\n",
       "Name: RELIGION, dtype: int64"
      ]
     },
     "execution_count": 847,
     "metadata": {},
     "output_type": "execute_result"
    }
   ],
   "source": [
    "print(\"Null Values: {0}\".format(main_df['RELIGION'].isnull().sum()))\n",
    "main_df['RELIGION'].value_counts()"
   ]
  },
  {
   "cell_type": "code",
   "execution_count": 848,
   "metadata": {
    "collapsed": true
   },
   "outputs": [],
   "source": [
    "main_df = main_df.drop('RELIGION', axis = 1)"
   ]
  },
  {
   "cell_type": "markdown",
   "metadata": {},
   "source": [
    "#### Marital Status"
   ]
  },
  {
   "cell_type": "code",
   "execution_count": 849,
   "metadata": {
    "collapsed": false
   },
   "outputs": [
    {
     "name": "stdout",
     "output_type": "stream",
     "text": [
      "Null Values: 9157\n"
     ]
    },
    {
     "data": {
      "text/plain": [
       "MARRIED              16676\n",
       "SINGLE                8948\n",
       "WIDOWED               4606\n",
       "DIVORCED              2116\n",
       "SEPARATED              347\n",
       "UNKNOWN (DEFAULT)      254\n",
       "LIFE PARTNER            11\n",
       "Name: MARITAL_STATUS, dtype: int64"
      ]
     },
     "execution_count": 849,
     "metadata": {},
     "output_type": "execute_result"
    }
   ],
   "source": [
    "print(\"Null Values: {0}\".format(main_df['MARITAL_STATUS'].isnull().sum()))\n",
    "main_df['MARITAL_STATUS'].value_counts()"
   ]
  },
  {
   "cell_type": "code",
   "execution_count": 850,
   "metadata": {
    "collapsed": true
   },
   "outputs": [],
   "source": [
    "# consolidate small categories\n",
    "main_df['MARITAL_STATUS'] = main_df['MARITAL_STATUS'].apply(lambda x: x if x == x else 'Unknown Marital Status')\n",
    "top_categories = [key for key, value in main_df['MARITAL_STATUS'].value_counts().iteritems() if value > 2000]\n",
    "main_df['MARITAL_STATUS'] = main_df['MARITAL_STATUS'].apply(lambda x: x if x in top_categories else 'Other Marital Status')"
   ]
  },
  {
   "cell_type": "code",
   "execution_count": 851,
   "metadata": {
    "collapsed": false
   },
   "outputs": [
    {
     "data": {
      "text/plain": [
       "['MARRIED', 'Unknown Marital Status', 'SINGLE', 'WIDOWED', 'DIVORCED']"
      ]
     },
     "execution_count": 851,
     "metadata": {},
     "output_type": "execute_result"
    }
   ],
   "source": [
    "top_categories"
   ]
  },
  {
   "cell_type": "code",
   "execution_count": 852,
   "metadata": {
    "collapsed": false
   },
   "outputs": [
    {
     "data": {
      "image/png": "[encoded data removed]",
      "text/plain": [
       "<matplotlib.figure.Figure at 0x1531a0f10>"
      ]
     },
     "metadata": {},
     "output_type": "display_data"
    }
   ],
   "source": [
    "plot_categorical(main_df, 'MARITAL_STATUS', 0.35)"
   ]
  },
  {
   "cell_type": "code",
   "execution_count": 853,
   "metadata": {
    "collapsed": true
   },
   "outputs": [],
   "source": [
    "main_df = main_df.drop('MARITAL_STATUS', axis = 1)"
   ]
  },
  {
   "cell_type": "markdown",
   "metadata": {},
   "source": [
    "#### Ethnicity"
   ]
  },
  {
   "cell_type": "code",
   "execution_count": 854,
   "metadata": {
    "collapsed": false,
    "scrolled": true
   },
   "outputs": [
    {
     "name": "stdout",
     "output_type": "stream",
     "text": [
      "Null Values: 0\n"
     ]
    },
    {
     "data": {
      "text/plain": [
       "WHITE                                                       29121\n",
       "UNKNOWN/NOT SPECIFIED                                        3556\n",
       "BLACK/AFRICAN AMERICAN                                       3347\n",
       "HISPANIC OR LATINO                                           1273\n",
       "ASIAN                                                        1230\n",
       "OTHER                                                        1159\n",
       "UNABLE TO OBTAIN                                              637\n",
       "PATIENT DECLINED TO ANSWER                                    459\n",
       "ASIAN - CHINESE                                               205\n",
       "BLACK/CAPE VERDEAN                                            152\n",
       "HISPANIC/LATINO - PUERTO RICAN                                140\n",
       "MULTI RACE ETHNICITY                                          103\n",
       "WHITE - RUSSIAN                                                90\n",
       "WHITE - OTHER EUROPEAN                                         65\n",
       "BLACK/HAITIAN                                                  65\n",
       "HISPANIC/LATINO - DOMINICAN                                    57\n",
       "ASIAN - ASIAN INDIAN                                           56\n",
       "AMERICAN INDIAN/ALASKA NATIVE                                  43\n",
       "WHITE - BRAZILIAN                                              41\n",
       "ASIAN - VIETNAMESE                                             36\n",
       "PORTUGUESE                                                     36\n",
       "BLACK/AFRICAN                                                  29\n",
       "MIDDLE EASTERN                                                 27\n",
       "HISPANIC/LATINO - GUATEMALAN                                   25\n",
       "WHITE - EASTERN EUROPEAN                                       20\n",
       "ASIAN - FILIPINO                                               15\n",
       "HISPANIC/LATINO - CUBAN                                        15\n",
       "HISPANIC/LATINO - SALVADORAN                                   14\n",
       "ASIAN - OTHER                                                  14\n",
       "HISPANIC/LATINO - MEXICAN                                      11\n",
       "NATIVE HAWAIIAN OR OTHER PACIFIC ISLANDER                      11\n",
       "ASIAN - KOREAN                                                 10\n",
       "HISPANIC/LATINO - CENTRAL AMERICAN (OTHER)                      9\n",
       "ASIAN - CAMBODIAN                                               8\n",
       "SOUTH AMERICAN                                                  8\n",
       "HISPANIC/LATINO - COLOMBIAN                                     8\n",
       "CARIBBEAN ISLAND                                                7\n",
       "ASIAN - JAPANESE                                                5\n",
       "HISPANIC/LATINO - HONDURAN                                      3\n",
       "ASIAN - THAI                                                    3\n",
       "AMERICAN INDIAN/ALASKA NATIVE FEDERALLY RECOGNIZED TRIBE        2\n",
       "Name: ETHNICITY, dtype: int64"
      ]
     },
     "execution_count": 854,
     "metadata": {},
     "output_type": "execute_result"
    }
   ],
   "source": [
    "print(\"Null Values: {0}\".format(main_df['ETHNICITY'].isnull().sum()))\n",
    "main_df['ETHNICITY'].value_counts()"
   ]
  },
  {
   "cell_type": "code",
   "execution_count": 855,
   "metadata": {
    "collapsed": false
   },
   "outputs": [
    {
     "data": {
      "text/plain": [
       "WHITE                     29337\n",
       "UNKNOWN/NOT SPECIFIED      4193\n",
       "BLACK/AFRICAN AMERICAN     3347\n",
       "Other Ethnicity            2383\n",
       "ASIAN                      1582\n",
       "HISPANIC OR LATINO         1273\n",
       "Name: ETHNICITY, dtype: int64"
      ]
     },
     "execution_count": 855,
     "metadata": {},
     "output_type": "execute_result"
    }
   ],
   "source": [
    "# consolidate small categories\n",
    "main_df['ETHNICITY'] = main_df['ETHNICITY'].apply(lambda x: 'UNKNOWN/NOT SPECIFIED' if x == 'UNABLE TO OBTAIN' else x)\n",
    "top_categories = [key for key, value in main_df['ETHNICITY'].value_counts().iteritems() if value > 1200]\n",
    "for category in top_categories:\n",
    "    main_df['ETHNICITY'] = main_df['ETHNICITY'].apply(lambda x: category if category in x else x)\n",
    "main_df['ETHNICITY'] = main_df['ETHNICITY'].apply(lambda x: x if x in top_categories else 'Other Ethnicity')\n",
    "main_df['ETHNICITY'].value_counts()"
   ]
  },
  {
   "cell_type": "code",
   "execution_count": 856,
   "metadata": {
    "collapsed": false
   },
   "outputs": [
    {
     "data": {
      "image/png": "[encoded data removed]",
      "text/plain": [
       "<matplotlib.figure.Figure at 0x154106f10>"
      ]
     },
     "metadata": {},
     "output_type": "display_data"
    }
   ],
   "source": [
    "plot_categorical(main_df, 'ETHNICITY', 0.35)"
   ]
  },
  {
   "cell_type": "code",
   "execution_count": 857,
   "metadata": {
    "collapsed": true
   },
   "outputs": [],
   "source": [
    "main_df = convert_categorical(main_df, 'ETHNICITY')"
   ]
  },
  {
   "cell_type": "markdown",
   "metadata": {},
   "source": [
    "#### Emergency Room Duration"
   ]
  },
  {
   "cell_type": "code",
   "execution_count": 858,
   "metadata": {
    "collapsed": false
   },
   "outputs": [
    {
     "name": "stdout",
     "output_type": "stream",
     "text": [
      "Null Values: 22943\n",
      "Null Values: 22943\n",
      "2206-05-30 04:39:00\n"
     ]
    }
   ],
   "source": [
    "print(\"Null Values: {0}\".format(main_df['EDOUTTIME'].isnull().sum()))\n",
    "print(\"Null Values: {0}\".format(main_df['EDREGTIME'].isnull().sum()))\n",
    "print(main_df['EDOUTTIME'].max())"
   ]
  },
  {
   "cell_type": "code",
   "execution_count": 859,
   "metadata": {
    "collapsed": true
   },
   "outputs": [],
   "source": [
    "main_df['EDOUTTIME'] = main_df['EDOUTTIME'].apply(lambda date: adjust_years(date, 200))\n",
    "main_df['EDREGTIME'] = main_df['EDREGTIME'].apply(lambda date: adjust_years(date, 200))\n",
    "main_df['EDOUTTIME'] = pd.to_datetime(main_df['EDOUTTIME'])\n",
    "main_df['EDREGTIME'] = pd.to_datetime(main_df['EDREGTIME'])"
   ]
  },
  {
   "cell_type": "code",
   "execution_count": 860,
   "metadata": {
    "collapsed": true
   },
   "outputs": [],
   "source": [
    "#main_df['EDOUTTIME'] = main_df['EDOUTTIME'].fillna(0)\n",
    "#main_df['EDREGTIME'] = main_df['EDREGTIME'].fillna(0)\n",
    "main_df['DURATION_IN_ER'] = main_df['EDOUTTIME'] - main_df['EDREGTIME']\n",
    "main_df['DURATION_IN_ER'] = main_df['DURATION_IN_ER'].dt.days * 24 + main_df['DURATION_IN_ER'].dt.seconds * 1.0 / 3600\n",
    "main_df = main_df.drop(['EDOUTTIME', 'EDREGTIME'], axis = 1)"
   ]
  },
  {
   "cell_type": "code",
   "execution_count": 861,
   "metadata": {
    "collapsed": false
   },
   "outputs": [
    {
     "data": {
      "image/png": "[encoded data removed]",
      "text/plain": [
       "<matplotlib.figure.Figure at 0x14f405090>"
      ]
     },
     "metadata": {},
     "output_type": "display_data"
    }
   ],
   "source": [
    "plot_continuous(main_df, 'DURATION_IN_ER', 100)"
   ]
  },
  {
   "cell_type": "code",
   "execution_count": 862,
   "metadata": {
    "collapsed": false
   },
   "outputs": [],
   "source": [
    "main_df['DURATION_IN_ER'] = main_df['DURATION_IN_ER'].fillna(0)"
   ]
  },
  {
   "cell_type": "markdown",
   "metadata": {},
   "source": [
    "### Dataset Post Cleaning"
   ]
  },
  {
   "cell_type": "code",
   "execution_count": 863,
   "metadata": {
    "collapsed": false
   },
   "outputs": [
    {
     "name": "stdout",
     "output_type": "stream",
     "text": [
      "(42115, 37)\n",
      "SUBJECT_ID\n",
      "HADM_ID\n",
      "READMISSION\n",
      "DURATION_OF_STAY\n",
      "ELECTIVE\n",
      "EMERGENCY\n",
      "NEWBORN\n",
      "URGENT\n",
      "CLINIC REFERRAL/PREMATURE\n",
      "EMERGENCY ROOM ADMIT\n",
      "Other Admission Location\n",
      "PHYS REFERRAL/NORMAL DELI\n",
      "TRANSFER FROM HOSP/EXTRAM\n",
      "DISC-TRAN CANCER/CHLDRN H\n",
      "DISCH-TRAN TO PSYCH HOSP\n",
      "HOME\n",
      "HOME HEALTH CARE\n",
      "HOSPICE-HOME\n",
      "HOSPICE-MEDICAL FACILITY\n",
      "LEFT AGAINST MEDICAL ADVI\n",
      "LONG TERM CARE HOSPITAL\n",
      "Other Discharge Location\n",
      "REHAB/DISTINCT PART HOSP\n",
      "SHORT TERM HOSPITAL\n",
      "SNF\n",
      "Government\n",
      "Medicaid\n",
      "Medicare\n",
      "Private\n",
      "Self Pay\n",
      "ASIAN\n",
      "BLACK/AFRICAN AMERICAN\n",
      "HISPANIC OR LATINO\n",
      "Other Ethnicity\n",
      "UNKNOWN/NOT SPECIFIED\n",
      "WHITE\n",
      "DURATION_IN_ER\n"
     ]
    },
    {
     "data": {
      "text/html": [
       "<div>\n",
       "<table border=\"1\" class=\"dataframe\">\n",
       "  <thead>\n",
       "    <tr style=\"text-align: right;\">\n",
       "      <th></th>\n",
       "      <th>SUBJECT_ID</th>\n",
       "      <th>HADM_ID</th>\n",
       "      <th>READMISSION</th>\n",
       "      <th>DURATION_OF_STAY</th>\n",
       "      <th>ELECTIVE</th>\n",
       "      <th>EMERGENCY</th>\n",
       "      <th>NEWBORN</th>\n",
       "      <th>URGENT</th>\n",
       "      <th>CLINIC REFERRAL/PREMATURE</th>\n",
       "      <th>EMERGENCY ROOM ADMIT</th>\n",
       "      <th>...</th>\n",
       "      <th>Medicare</th>\n",
       "      <th>Private</th>\n",
       "      <th>Self Pay</th>\n",
       "      <th>ASIAN</th>\n",
       "      <th>BLACK/AFRICAN AMERICAN</th>\n",
       "      <th>HISPANIC OR LATINO</th>\n",
       "      <th>Other Ethnicity</th>\n",
       "      <th>UNKNOWN/NOT SPECIFIED</th>\n",
       "      <th>WHITE</th>\n",
       "      <th>DURATION_IN_ER</th>\n",
       "    </tr>\n",
       "  </thead>\n",
       "  <tbody>\n",
       "    <tr>\n",
       "      <th>0</th>\n",
       "      <td>22</td>\n",
       "      <td>165315</td>\n",
       "      <td>False</td>\n",
       "      <td>27.466667</td>\n",
       "      <td>0</td>\n",
       "      <td>1</td>\n",
       "      <td>0</td>\n",
       "      <td>0</td>\n",
       "      <td>0</td>\n",
       "      <td>1</td>\n",
       "      <td>...</td>\n",
       "      <td>0</td>\n",
       "      <td>1</td>\n",
       "      <td>0</td>\n",
       "      <td>0</td>\n",
       "      <td>0</td>\n",
       "      <td>0</td>\n",
       "      <td>0</td>\n",
       "      <td>0</td>\n",
       "      <td>1</td>\n",
       "      <td>3.300000</td>\n",
       "    </tr>\n",
       "    <tr>\n",
       "      <th>1</th>\n",
       "      <td>23</td>\n",
       "      <td>152223</td>\n",
       "      <td>True</td>\n",
       "      <td>131.916667</td>\n",
       "      <td>1</td>\n",
       "      <td>0</td>\n",
       "      <td>0</td>\n",
       "      <td>0</td>\n",
       "      <td>0</td>\n",
       "      <td>0</td>\n",
       "      <td>...</td>\n",
       "      <td>1</td>\n",
       "      <td>0</td>\n",
       "      <td>0</td>\n",
       "      <td>0</td>\n",
       "      <td>0</td>\n",
       "      <td>0</td>\n",
       "      <td>0</td>\n",
       "      <td>0</td>\n",
       "      <td>1</td>\n",
       "      <td>0.000000</td>\n",
       "    </tr>\n",
       "    <tr>\n",
       "      <th>2</th>\n",
       "      <td>24</td>\n",
       "      <td>161859</td>\n",
       "      <td>False</td>\n",
       "      <td>68.566667</td>\n",
       "      <td>0</td>\n",
       "      <td>1</td>\n",
       "      <td>0</td>\n",
       "      <td>0</td>\n",
       "      <td>0</td>\n",
       "      <td>0</td>\n",
       "      <td>...</td>\n",
       "      <td>0</td>\n",
       "      <td>1</td>\n",
       "      <td>0</td>\n",
       "      <td>0</td>\n",
       "      <td>0</td>\n",
       "      <td>0</td>\n",
       "      <td>0</td>\n",
       "      <td>0</td>\n",
       "      <td>1</td>\n",
       "      <td>0.000000</td>\n",
       "    </tr>\n",
       "    <tr>\n",
       "      <th>3</th>\n",
       "      <td>25</td>\n",
       "      <td>129635</td>\n",
       "      <td>False</td>\n",
       "      <td>84.816667</td>\n",
       "      <td>0</td>\n",
       "      <td>1</td>\n",
       "      <td>0</td>\n",
       "      <td>0</td>\n",
       "      <td>0</td>\n",
       "      <td>1</td>\n",
       "      <td>...</td>\n",
       "      <td>0</td>\n",
       "      <td>1</td>\n",
       "      <td>0</td>\n",
       "      <td>0</td>\n",
       "      <td>0</td>\n",
       "      <td>0</td>\n",
       "      <td>0</td>\n",
       "      <td>0</td>\n",
       "      <td>1</td>\n",
       "      <td>3.433333</td>\n",
       "    </tr>\n",
       "    <tr>\n",
       "      <th>4</th>\n",
       "      <td>26</td>\n",
       "      <td>197661</td>\n",
       "      <td>False</td>\n",
       "      <td>167.733333</td>\n",
       "      <td>0</td>\n",
       "      <td>1</td>\n",
       "      <td>0</td>\n",
       "      <td>0</td>\n",
       "      <td>0</td>\n",
       "      <td>0</td>\n",
       "      <td>...</td>\n",
       "      <td>1</td>\n",
       "      <td>0</td>\n",
       "      <td>0</td>\n",
       "      <td>0</td>\n",
       "      <td>0</td>\n",
       "      <td>0</td>\n",
       "      <td>0</td>\n",
       "      <td>1</td>\n",
       "      <td>0</td>\n",
       "      <td>0.000000</td>\n",
       "    </tr>\n",
       "  </tbody>\n",
       "</table>\n",
       "<p>5 rows × 37 columns</p>\n",
       "</div>"
      ],
      "text/plain": [
       "   SUBJECT_ID  HADM_ID READMISSION  DURATION_OF_STAY  ELECTIVE  EMERGENCY  \\\n",
       "0          22   165315       False         27.466667         0          1   \n",
       "1          23   152223        True        131.916667         1          0   \n",
       "2          24   161859       False         68.566667         0          1   \n",
       "3          25   129635       False         84.816667         0          1   \n",
       "4          26   197661       False        167.733333         0          1   \n",
       "\n",
       "   NEWBORN  URGENT  CLINIC REFERRAL/PREMATURE  EMERGENCY ROOM ADMIT  \\\n",
       "0        0       0                          0                     1   \n",
       "1        0       0                          0                     0   \n",
       "2        0       0                          0                     0   \n",
       "3        0       0                          0                     1   \n",
       "4        0       0                          0                     0   \n",
       "\n",
       "        ...        Medicare  Private  Self Pay  ASIAN  BLACK/AFRICAN AMERICAN  \\\n",
       "0       ...               0        1         0      0                       0   \n",
       "1       ...               1        0         0      0                       0   \n",
       "2       ...               0        1         0      0                       0   \n",
       "3       ...               0        1         0      0                       0   \n",
       "4       ...               1        0         0      0                       0   \n",
       "\n",
       "   HISPANIC OR LATINO  Other Ethnicity  UNKNOWN/NOT SPECIFIED  WHITE  \\\n",
       "0                   0                0                      0      1   \n",
       "1                   0                0                      0      1   \n",
       "2                   0                0                      0      1   \n",
       "3                   0                0                      0      1   \n",
       "4                   0                0                      1      0   \n",
       "\n",
       "   DURATION_IN_ER  \n",
       "0        3.300000  \n",
       "1        0.000000  \n",
       "2        0.000000  \n",
       "3        3.433333  \n",
       "4        0.000000  \n",
       "\n",
       "[5 rows x 37 columns]"
      ]
     },
     "execution_count": 863,
     "metadata": {},
     "output_type": "execute_result"
    }
   ],
   "source": [
    "print(main_df.shape)\n",
    "for column in main_df.columns:\n",
    "    print column\n",
    "main_df.head()"
   ]
  },
  {
   "cell_type": "code",
   "execution_count": 864,
   "metadata": {
    "collapsed": true
   },
   "outputs": [],
   "source": [
    "main_df.to_csv('full_dataset.csv', index = False)"
   ]
  }
 ],
 "metadata": {
  "kernelspec": {
   "display_name": "Python 2",
   "language": "python",
   "name": "python2"
  },
  "language_info": {
   "codemirror_mode": {
    "name": "ipython",
    "version": 2
   },
   "file_extension": ".py",
   "mimetype": "text/x-python",
   "name": "python",
   "nbconvert_exporter": "python",
   "pygments_lexer": "ipython2",
   "version": "2.7.13"
  }
 },
 "nbformat": 4,
 "nbformat_minor": 2
}
