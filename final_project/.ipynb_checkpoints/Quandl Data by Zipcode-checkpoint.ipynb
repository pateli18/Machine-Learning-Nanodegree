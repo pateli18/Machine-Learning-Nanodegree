{
 "cells": [
  {
   "cell_type": "code",
   "execution_count": 17,
   "metadata": {
    "collapsed": true
   },
   "outputs": [],
   "source": [
    "import pandas as pd\n",
    "import quandl\n",
    "quandl.ApiConfig.api_key = \"o3JsTtndey7CzUf1z6v6\""
   ]
  },
  {
   "cell_type": "code",
   "execution_count": 14,
   "metadata": {
    "collapsed": false
   },
   "outputs": [],
   "source": [
    "zipcodes = pd.read_csv('data/us_postal_codes.csv')\n",
    "zipcodes = zipcodes[~zipcodes['Postal Code'].isnull()]\n",
    "zipcodes = zipcodes.drop('Unnamed: 7', axis = 1)"
   ]
  },
  {
   "cell_type": "code",
   "execution_count": 15,
   "metadata": {
    "collapsed": false
   },
   "outputs": [],
   "source": [
    "def format_zipcode(postal_code):\n",
    "    postal_code = str(int(postal_code))\n",
    "    if len(postal_code) < 5:\n",
    "        zeros_to_add = 5 - len(postal_code)\n",
    "        for zero in range(zeros_to_add):\n",
    "            postal_code = '0' + postal_code\n",
    "    return postal_code"
   ]
  },
  {
   "cell_type": "code",
   "execution_count": 16,
   "metadata": {
    "collapsed": false
   },
   "outputs": [
    {
     "name": "stdout",
     "output_type": "stream",
     "text": [
      "(43582, 7)\n"
     ]
    },
    {
     "data": {
      "text/html": [
       "<div>\n",
       "<table border=\"1\" class=\"dataframe\">\n",
       "  <thead>\n",
       "    <tr style=\"text-align: right;\">\n",
       "      <th></th>\n",
       "      <th>Postal Code</th>\n",
       "      <th>Place Name</th>\n",
       "      <th>State</th>\n",
       "      <th>State Abbreviation</th>\n",
       "      <th>County</th>\n",
       "      <th>Latitude</th>\n",
       "      <th>Longitude</th>\n",
       "    </tr>\n",
       "  </thead>\n",
       "  <tbody>\n",
       "    <tr>\n",
       "      <th>0</th>\n",
       "      <td>00210</td>\n",
       "      <td>Portsmouth</td>\n",
       "      <td>New Hampshire</td>\n",
       "      <td>NH</td>\n",
       "      <td>Rockingham</td>\n",
       "      <td>43.0059</td>\n",
       "      <td>-71.0132</td>\n",
       "    </tr>\n",
       "    <tr>\n",
       "      <th>1</th>\n",
       "      <td>00211</td>\n",
       "      <td>Portsmouth</td>\n",
       "      <td>New Hampshire</td>\n",
       "      <td>NH</td>\n",
       "      <td>Rockingham</td>\n",
       "      <td>43.0059</td>\n",
       "      <td>-71.0132</td>\n",
       "    </tr>\n",
       "    <tr>\n",
       "      <th>2</th>\n",
       "      <td>00212</td>\n",
       "      <td>Portsmouth</td>\n",
       "      <td>New Hampshire</td>\n",
       "      <td>NH</td>\n",
       "      <td>Rockingham</td>\n",
       "      <td>43.0059</td>\n",
       "      <td>-71.0132</td>\n",
       "    </tr>\n",
       "    <tr>\n",
       "      <th>3</th>\n",
       "      <td>00213</td>\n",
       "      <td>Portsmouth</td>\n",
       "      <td>New Hampshire</td>\n",
       "      <td>NH</td>\n",
       "      <td>Rockingham</td>\n",
       "      <td>43.0059</td>\n",
       "      <td>-71.0132</td>\n",
       "    </tr>\n",
       "    <tr>\n",
       "      <th>4</th>\n",
       "      <td>00214</td>\n",
       "      <td>Portsmouth</td>\n",
       "      <td>New Hampshire</td>\n",
       "      <td>NH</td>\n",
       "      <td>Rockingham</td>\n",
       "      <td>43.0059</td>\n",
       "      <td>-71.0132</td>\n",
       "    </tr>\n",
       "  </tbody>\n",
       "</table>\n",
       "</div>"
      ],
      "text/plain": [
       "  Postal Code  Place Name          State State Abbreviation      County  \\\n",
       "0       00210  Portsmouth  New Hampshire                 NH  Rockingham   \n",
       "1       00211  Portsmouth  New Hampshire                 NH  Rockingham   \n",
       "2       00212  Portsmouth  New Hampshire                 NH  Rockingham   \n",
       "3       00213  Portsmouth  New Hampshire                 NH  Rockingham   \n",
       "4       00214  Portsmouth  New Hampshire                 NH  Rockingham   \n",
       "\n",
       "   Latitude  Longitude  \n",
       "0   43.0059   -71.0132  \n",
       "1   43.0059   -71.0132  \n",
       "2   43.0059   -71.0132  \n",
       "3   43.0059   -71.0132  \n",
       "4   43.0059   -71.0132  "
      ]
     },
     "execution_count": 16,
     "metadata": {},
     "output_type": "execute_result"
    }
   ],
   "source": [
    "zipcodes['Postal Code'] = zipcodes['Postal Code'].apply(lambda x: format_zipcode(x))\n",
    "print(zipcodes.shape)\n",
    "zipcodes.head()"
   ]
  },
  {
   "cell_type": "code",
   "execution_count": 23,
   "metadata": {
    "collapsed": false
   },
   "outputs": [],
   "source": [
    "data = quandl.get(\"ZILL/Z02138_A\").transpose()"
   ]
  },
  {
   "cell_type": "code",
   "execution_count": 58,
   "metadata": {
    "collapsed": false
   },
   "outputs": [],
   "source": [
    "def get_data(zipcodes_df):\n",
    "    base_df = pd.DataFrame()\n",
    "    total = zipcodes_df.shape[0]\n",
    "    for index, value in zipcodes_df['Postal Code'].iteritems():\n",
    "        try:\n",
    "            data = quandl.get(\"ZILL/Z{0}_A\".format(value)).transpose()\n",
    "            data['Postal Code'] = value\n",
    "            base_df = pd.concat([base_df, data])\n",
    "            base_df.to_csv('test_df.csv', index = False)\n",
    "        except quandl.NotFoundError:\n",
    "            print(\"{0} Not Found\".format(value))\n",
    "        print(\"{0}% Complete\".format((index + 1) * 1.0 / total * 100))\n",
    "    return base_df"
   ]
  },
  {
   "cell_type": "code",
   "execution_count": 59,
   "metadata": {
    "collapsed": false
   },
   "outputs": [
    {
     "name": "stdout",
     "output_type": "stream",
     "text": [
      "00210 Not Found\n",
      "5.0% Complete\n",
      "00211 Not Found\n",
      "10.0% Complete\n",
      "00212 Not Found\n",
      "15.0% Complete\n",
      "00213 Not Found\n",
      "20.0% Complete\n",
      "00214 Not Found\n",
      "25.0% Complete\n",
      "00215 Not Found\n",
      "30.0% Complete\n",
      "00401 Not Found\n",
      "35.0% Complete\n",
      "00501 Not Found\n",
      "40.0% Complete\n",
      "00544 Not Found\n",
      "45.0% Complete\n",
      "50.0% Complete\n",
      "55.0% Complete\n",
      "01003 Not Found\n",
      "60.0% Complete\n",
      "01004 Not Found\n",
      "65.0% Complete\n",
      "70.0% Complete\n",
      "75.0% Complete\n",
      "80.0% Complete\n",
      "01009 Not Found\n",
      "85.0% Complete\n",
      "90.0% Complete\n",
      "95.0% Complete\n",
      "01012 Not Found\n",
      "100.0% Complete\n"
     ]
    }
   ],
   "source": [
    "zipcodes_sub = zipcodes.iloc[:20]\n",
    "df = get_data(zipcodes_sub)"
   ]
  },
  {
   "cell_type": "code",
   "execution_count": 67,
   "metadata": {
    "collapsed": false
   },
   "outputs": [],
   "source": [
    "df = pd.read_csv('test_df.csv')\n",
    "df['Postal Code'] = df['Postal Code'].apply(lambda x: format_zipcode(x))"
   ]
  },
  {
   "cell_type": "code",
   "execution_count": 68,
   "metadata": {
    "collapsed": false
   },
   "outputs": [],
   "source": [
    "z1 = set(zipcodes['Postal Code'].tolist())\n",
    "z2 = set(df['Postal Code'].tolist())\n",
    "z3 = set(z1) - set(z2)"
   ]
  },
  {
   "cell_type": "code",
   "execution_count": 70,
   "metadata": {
    "collapsed": false
   },
   "outputs": [],
   "source": [
    "zipcodes_test = pd.read_csv('data/us_postal_codes.csv')\n",
    "zipcodes_test = zipcodes_test.iloc[:30]\n",
    "zipcodes_test.to_csv('data/test_data.csv', index = False)"
   ]
  }
 ],
 "metadata": {
  "kernelspec": {
   "display_name": "Python 2",
   "language": "python",
   "name": "python2"
  },
  "language_info": {
   "codemirror_mode": {
    "name": "ipython",
    "version": 2
   },
   "file_extension": ".py",
   "mimetype": "text/x-python",
   "name": "python",
   "nbconvert_exporter": "python",
   "pygments_lexer": "ipython2",
   "version": "2.7.13"
  }
 },
 "nbformat": 4,
 "nbformat_minor": 2
}
